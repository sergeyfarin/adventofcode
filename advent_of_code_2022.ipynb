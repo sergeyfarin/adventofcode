{
 "cells": [
  {
   "cell_type": "markdown",
   "metadata": {},
   "source": [
    "# Advent of Code 2022 with Python 🎄"
   ]
  },
  {
   "cell_type": "markdown",
   "metadata": {},
   "source": [
    "## Day 1"
   ]
  },
  {
   "cell_type": "code",
   "execution_count": 1,
   "metadata": {},
   "outputs": [],
   "source": [
    "day01_input = \"\"\"1000\n",
    "2000\n",
    "3000\n",
    "\n",
    "4000\n",
    "\n",
    "5000\n",
    "6000\n",
    "\n",
    "7000\n",
    "8000\n",
    "9000\n",
    "\n",
    "10000\"\"\""
   ]
  },
  {
   "cell_type": "code",
   "execution_count": 2,
   "metadata": {},
   "outputs": [
    {
     "name": "stdout",
     "output_type": "stream",
     "text": [
      "24000\n"
     ]
    }
   ],
   "source": [
    "print(max([sum([int(y) if y!=\"\" else 0 for y in x.split(\"\\n\")]) for x in day01_input.split(\"\\n\\n\")]))"
   ]
  },
  {
   "cell_type": "code",
   "execution_count": 3,
   "metadata": {},
   "outputs": [
    {
     "name": "stdout",
     "output_type": "stream",
     "text": [
      "45000\n"
     ]
    }
   ],
   "source": [
    "print(sum(sorted([sum([int(y) if y!=\"\" else 0 for y in x.split(\"\\n\")]) for x in day01_input.split(\"\\n\\n\")])[-3:]))"
   ]
  },
  {
   "cell_type": "markdown",
   "metadata": {},
   "source": [
    "## Day 2"
   ]
  },
  {
   "cell_type": "code",
   "execution_count": 4,
   "metadata": {},
   "outputs": [],
   "source": [
    "day02_input = \"\"\"A Y\n",
    "B X\n",
    "C Z\"\"\""
   ]
  },
  {
   "cell_type": "code",
   "execution_count": 5,
   "metadata": {},
   "outputs": [
    {
     "name": "stdout",
     "output_type": "stream",
     "text": [
      "15\n"
     ]
    }
   ],
   "source": [
    "print(sum([(ord(x[2])-87+(6 if ord(x[2])-ord(x[0])==24 or ord(x[2])-ord(x[0])==21 else 3 if ord(x[2])-ord(x[0])==23 else 0)) for x in day02_input.split(\"\\n\")]))"
   ]
  },
  {
   "cell_type": "code",
   "execution_count": 6,
   "metadata": {},
   "outputs": [
    {
     "name": "stdout",
     "output_type": "stream",
     "text": [
      "12\n"
     ]
    }
   ],
   "source": [
    "print(sum([((ord(x[2])-88)*3+(ord(x[0])-65+ord(x[2])-89)%3+1) for x in day02_input.split(\"\\n\")]))"
   ]
  },
  {
   "cell_type": "markdown",
   "metadata": {},
   "source": [
    "## Day 3"
   ]
  },
  {
   "cell_type": "code",
   "execution_count": 7,
   "metadata": {},
   "outputs": [],
   "source": [
    "day03_input = \"\"\"vJrwpWtwJgWrhcsFMMfFFhFp\n",
    "jqHRNqRjqzjGDLGLrsFMfFZSrLrFZsSL\n",
    "PmmdzqPrVvPwwTWBwg\n",
    "wMqvLMZHhHMvwLHjbvcjnnSBnvTQFn\n",
    "ttgJtRGJQctTZtZT\n",
    "CrZsJsPPZsGzwwsLwLmpwMDw\"\"\""
   ]
  },
  {
   "cell_type": "code",
   "execution_count": 8,
   "metadata": {},
   "outputs": [
    {
     "name": "stdout",
     "output_type": "stream",
     "text": [
      "157\n"
     ]
    }
   ],
   "source": [
    "print(sum([sum([ord(i)-96 if ord(i)>96 else ord(i)-64+26 for i in set(r[:(len(r)//2)]).intersection(r[(len(r)//2):])]) for r in day03_input.split(\"\\n\")]))"
   ]
  },
  {
   "cell_type": "code",
   "execution_count": 9,
   "metadata": {},
   "outputs": [
    {
     "name": "stdout",
     "output_type": "stream",
     "text": [
      "70\n"
     ]
    }
   ],
   "source": [
    "print(sum([sum(map(lambda i: ord(i)-96 if ord(i)>96 else ord(i)-64+26, set(g[0]).intersection(g[1]).intersection(g[2]))) for g in [day03_input.split(\"\\n\")[i:i+3] for i in range(0, len(day03_input.split(\"\\n\")), 3)]]))"
   ]
  },
  {
   "cell_type": "markdown",
   "metadata": {},
   "source": [
    "## Day 4"
   ]
  },
  {
   "cell_type": "code",
   "execution_count": 61,
   "metadata": {},
   "outputs": [],
   "source": [
    "day04_input = \"\"\"2-4,6-8\n",
    "2-3,4-5\n",
    "5-7,7-9\n",
    "2-8,3-7\n",
    "6-6,4-6\n",
    "2-6,4-8\"\"\""
   ]
  },
  {
   "cell_type": "code",
   "execution_count": 62,
   "metadata": {},
   "outputs": [
    {
     "name": "stdout",
     "output_type": "stream",
     "text": [
      "2\n"
     ]
    }
   ],
   "source": [
    "print(len(list(filter(lambda x: ((x[0]>=x[2] and x[1]<=x[3]) or (x[2]>=x[0] and x[3]<=x[1])), [[int(y) for y in pair.replace(',','-').split(\"-\")] for pair in day04_input.split(\"\\n\")]))))"
   ]
  },
  {
   "cell_type": "code",
   "execution_count": 63,
   "metadata": {},
   "outputs": [
    {
     "name": "stdout",
     "output_type": "stream",
     "text": [
      "4\n"
     ]
    }
   ],
   "source": [
    "print(len(list(filter(lambda x: ((x[0]>=x[2] and x[0]<=x[3]) or (x[1]>=x[2] and x[1]<=x[3]) or (x[2]>=x[0] and x[2]<=x[1]) or (x[3]>=x[0] and x[3]<=x[1])), [[int(y) for y in pair.replace(',','-').split(\"-\")] for pair in day04_input.split(\"\\n\")]))))"
   ]
  },
  {
   "cell_type": "markdown",
   "metadata": {},
   "source": [
    "## Day 5"
   ]
  },
  {
   "cell_type": "code",
   "execution_count": 110,
   "metadata": {},
   "outputs": [],
   "source": [
    "day05_input = \"\"\"    [D]    \n",
    "[N] [C]    \n",
    "[Z] [M] [P]\n",
    " 1   2   3 \n",
    "\n",
    "move 1 from 2 to 1\n",
    "move 3 from 1 to 3\n",
    "move 2 from 2 to 1\n",
    "move 1 from 1 to 2\"\"\"\n"
   ]
  },
  {
   "cell_type": "code",
   "execution_count": 111,
   "metadata": {},
   "outputs": [
    {
     "data": {
      "text/plain": [
       "'CMZ'"
      ]
     },
     "execution_count": 111,
     "metadata": {},
     "output_type": "execute_result"
    }
   ],
   "source": [
    "from functools import reduce\n",
    "\n",
    "# First line of \"one-liner solution\" to get last elements of each stack\n",
    "reduce(lambda c, d: c+d[-1], \n",
    "       # Second line performs rearrangements of stacks (\"crane operations\"), reduce function takes as arguments: 1) function (this line)\n",
    "       reduce(lambda a,b: [a[i][:-b[0]] if i==b[1]-1 else a[i]+a[b[1]-1][:-b[0]-1:-1] if i==b[2]-1 else a[i] for i, s in enumerate(a)], \n",
    "              # Next line prepares array of crane actions, each line with 3 numbers\n",
    "              [[int(line.split()[0]), int(line.split()[1]), int(line.split()[2])] for line in day05_input.split('\\n\\n')[1].replace('move ','').replace(' from ',' ').replace(' to ',' ').split('\\n')], \n",
    "              # Next line prepares initial array of stacks in a format [['Z', 'N'], ['M', 'C', 'D'], ['P']]\n",
    "              [list(filter(lambda x: x!=' ', [line[i*4+1] for line in day05_input.split('\\n\\n')[0].split('\\n')[:-1]][::-1])) for i in range(len(day05_input.split('\\n')[0][1::4]))]),\n",
    "       '')"
   ]
  },
  {
   "cell_type": "code",
   "execution_count": 112,
   "metadata": {},
   "outputs": [
    {
     "data": {
      "text/plain": [
       "'MCD'"
      ]
     },
     "execution_count": 112,
     "metadata": {},
     "output_type": "execute_result"
    }
   ],
   "source": [
    "reduce(lambda c, d: c+d[-1], \n",
    "       reduce(lambda a,b: [a[i][:-b[0]] if i==b[1]-1 else a[i]+a[b[1]-1][-b[0]:] if i==b[2]-1 else a[i] for i, s in enumerate(a)], \n",
    "              [[int(line.split()[0]), int(line.split()[1]), int(line.split()[2])] for line in day05_input.split('\\n\\n')[1].replace('move ','').replace(' from ',' ').replace(' to ',' ').split('\\n')], \n",
    "              [list(filter(lambda x: x!=' ', [line[i*4+1] for line in day05_input.split('\\n\\n')[0].split('\\n')[:-1]][::-1])) for i in range(len(day05_input.split('\\n')[0][1::4]))]),\n",
    "       '')"
   ]
  },
  {
   "cell_type": "markdown",
   "metadata": {},
   "source": [
    "## Day 6"
   ]
  },
  {
   "cell_type": "code",
   "execution_count": 30,
   "metadata": {},
   "outputs": [],
   "source": [
    "day06_input = \"\"\"nppdvjthqldpwncqszvftbrmjlhg\"\"\""
   ]
  },
  {
   "cell_type": "code",
   "execution_count": 31,
   "metadata": {},
   "outputs": [
    {
     "data": {
      "text/plain": [
       "6"
      ]
     },
     "execution_count": 31,
     "metadata": {},
     "output_type": "execute_result"
    }
   ],
   "source": [
    "[1 if ((c!=day06_input[i+1]) and \n",
    "       (c!=day06_input[i+2]) and \n",
    "       (c!=day06_input[i+3]) and \n",
    "       (day06_input[i+1]!=day06_input[i+2]) and \n",
    "       (day06_input[i+1]!=day06_input[i+3]) and\n",
    "       (day06_input[i+2]!=day06_input[i+3])) else 0 for i, c in enumerate(day06_input[:-3])].index(1)+4"
   ]
  },
  {
   "cell_type": "code",
   "execution_count": 32,
   "metadata": {},
   "outputs": [
    {
     "data": {
      "text/plain": [
       "23"
      ]
     },
     "execution_count": 32,
     "metadata": {},
     "output_type": "execute_result"
    }
   ],
   "source": [
    "[sum([1 if c2 in day06_input[i+i2+1:i+14] else 0 for i2, c2 in enumerate(day06_input[i:i+14])]) for i, c in enumerate(day06_input[:-13])].index(0)+14"
   ]
  },
  {
   "cell_type": "markdown",
   "metadata": {},
   "source": [
    "## Day 7"
   ]
  },
  {
   "cell_type": "code",
   "execution_count": 77,
   "metadata": {},
   "outputs": [],
   "source": [
    "day07_input = \"\"\"$ cd /\n",
    "$ ls\n",
    "dir a\n",
    "14848514 b.txt\n",
    "8504156 c.dat\n",
    "dir d\n",
    "$ cd a\n",
    "$ ls\n",
    "dir e\n",
    "29116 f\n",
    "2557 g\n",
    "62596 h.lst\n",
    "$ cd e\n",
    "$ ls\n",
    "584 i\n",
    "$ cd ..\n",
    "$ cd ..\n",
    "$ cd d\n",
    "$ ls\n",
    "4060174 j\n",
    "8033020 d.log\n",
    "5626152 d.ext\n",
    "7214296 k\"\"\""
   ]
  },
  {
   "cell_type": "code",
   "execution_count": 78,
   "metadata": {},
   "outputs": [
    {
     "data": {
      "text/plain": [
       "95437"
      ]
     },
     "execution_count": 78,
     "metadata": {},
     "output_type": "execute_result"
    }
   ],
   "source": [
    "from functools import reduce\n",
    "sum([\n",
    "    reduce(lambda a, b: [a[0], 0] if a[1]==0 else [a[0], a[1]-1] if \"$ cd ..\" in b else [a[0], a[1]+1] if \"$ cd \" in b else ([0, 0] if a[0]+int(b.split()[0])>100000 else [a[0]+int(b.split()[0]), a[1]]) if not (b[0] in \"d$\") else [a[0], a[1]], day07_input.split(\"\\n\")[i+1:], [0, 1])[0]\n",
    "    if not \"$ cd ..\" in c and \"$ cd \" in c else 0 for i, c in enumerate(day07_input.split(\"\\n\")[:-1])])"
   ]
  },
  {
   "cell_type": "code",
   "execution_count": 79,
   "metadata": {},
   "outputs": [
    {
     "data": {
      "text/plain": [
       "24933642"
      ]
     },
     "execution_count": 79,
     "metadata": {},
     "output_type": "execute_result"
    }
   ],
   "source": [
    "reduce(lambda e, f: e if f==0 else e if f[1]<(30000000 - (70000000 - sum([int(d.split()[0]) if not d[0] in \"d$\" else 0 for d in day07_input.split(\"\\n\")[1:]]))) else e if f[1]>e[1] else f,\n",
    "       [[c[5:], reduce(lambda a, b: [a[0], 0] if a[1]==0 else [a[0], a[1]-1] if \"$ cd ..\" in b else [a[0], a[1]+1] if \"$ cd \" in b else [a[0]+int(b.split()[0]), a[1]] if not (b[0] in \"d$\") else [a[0], a[1]], day07_input.split(\"\\n\")[i+1:], [0, 1])[0]]\n",
    "        if not \"$ cd ..\" in c and \"$ cd \" in c else 0 for i, c in enumerate(day07_input.split(\"\\n\")[:-1])])[1]"
   ]
  },
  {
   "cell_type": "markdown",
   "metadata": {},
   "source": [
    "## Day 8"
   ]
  },
  {
   "cell_type": "code",
   "execution_count": 50,
   "metadata": {},
   "outputs": [],
   "source": [
    "day08_input = \"\"\"30373\n",
    "25512\n",
    "65332\n",
    "33549\n",
    "35390\"\"\""
   ]
  },
  {
   "cell_type": "code",
   "execution_count": 51,
   "metadata": {},
   "outputs": [
    {
     "data": {
      "text/plain": [
       "21"
      ]
     },
     "execution_count": 51,
     "metadata": {},
     "output_type": "execute_result"
    }
   ],
   "source": [
    "from functools import reduce\n",
    "reduce(lambda a, b: [a[0], a[1]+(1 if b[0]==0 or b[1]==0 or b[0]==len(a[0])-1 or b[1]==len(a[0][0])-1 else \n",
    "                                 1 if a[0][b[0]][b[1]]>max(a[0][b[0]][:b[1]]) or a[0][b[0]][b[1]]>max(a[0][b[0]][b[1]+1:]) or \n",
    "                                 a[0][b[0]][b[1]]>max([c[b[1]] for c in a[0][:b[0]]]) or \n",
    "                                 a[0][b[0]][b[1]]>max([c[b[1]] for c in a[0][b[0]+1:]]) else 0)],\n",
    "       [(i,j) for i,a in enumerate(day08_input.split(\"\\n\"))  for j,b in enumerate(a)],\n",
    "       [[[int(b) for j,b in enumerate(a)] for i,a in enumerate(day08_input.split(\"\\n\"))], 0])[1]"
   ]
  },
  {
   "cell_type": "code",
   "execution_count": 52,
   "metadata": {},
   "outputs": [
    {
     "data": {
      "text/plain": [
       "8"
      ]
     },
     "execution_count": 52,
     "metadata": {},
     "output_type": "execute_result"
    }
   ],
   "source": [
    "from functools import reduce\n",
    "reduce(lambda a, b: [a[0], max(a[1], 0 if b[0]==0 or b[1]==0 or b[0]==len(a[0])-1 or b[1]==len(a[0][0])-1 else \n",
    "                                     reduce(lambda c, d: c if c[1]==1 else [c[0]+1, 0] if a[0][b[0]][b[1]]>d else [c[0]+1, 1], a[0][b[0]][b[1]-1::-1] ,[0,0])[0]*\n",
    "                                     reduce(lambda c, d: c if c[1]==1 else [c[0]+1, 0] if a[0][b[0]][b[1]]>d else [c[0]+1, 1], a[0][b[0]][b[1]+1:] ,[0,0])[0]*\n",
    "                                     reduce(lambda c, d: c if c[1]==1 else [c[0]+1, 0] if a[0][b[0]][b[1]]>d else [c[0]+1, 1], [d[b[1]] for d in a[0][b[0]-1::-1]] ,[0,0])[0]*\n",
    "                                     reduce(lambda c, d: c if c[1]==1 else [c[0]+1, 0] if a[0][b[0]][b[1]]>d else [c[0]+1, 1], [d[b[1]] for d in a[0][b[0]+1:]] ,[0,0])[0])],\n",
    "       [(i,j) for i,a in enumerate(day08_input.split(\"\\n\"))  for j,b in enumerate(a)],\n",
    "       [[[int(b) for j,b in enumerate(a)] for i,a in enumerate(day08_input.split(\"\\n\"))], 0])[1]"
   ]
  },
  {
   "cell_type": "markdown",
   "metadata": {},
   "source": [
    "## Day 9"
   ]
  },
  {
   "cell_type": "code",
   "execution_count": 74,
   "metadata": {},
   "outputs": [],
   "source": [
    "day09_input = \"\"\"R 4\n",
    "U 4\n",
    "L 3\n",
    "D 1\n",
    "R 4\n",
    "D 1\n",
    "L 5\n",
    "R 2\"\"\""
   ]
  },
  {
   "cell_type": "code",
   "execution_count": 75,
   "metadata": {},
   "outputs": [
    {
     "data": {
      "text/plain": [
       "13"
      ]
     },
     "execution_count": 75,
     "metadata": {},
     "output_type": "execute_result"
    }
   ],
   "source": [
    "from functools import reduce\n",
    "len(reduce(lambda a, b: \n",
    "  reduce(lambda c, d: [[c[0][0]+(1 if d=='R' else -1 if d=='L' else 0), c[0][1]+(1 if d=='U' else -1 if d=='D' else 0)], \n",
    "                       c[1] if d!='T' or (abs(c[0][0]-c[1][0])<=1 and abs(c[0][1]-c[1][1])==1) or (abs(c[0][0]-c[1][0])==1 and abs(c[0][1]-c[1][1])<=1) else \n",
    "                       [c[1][0]+(1 if c[0][0]>c[1][0] else -1), c[1][1]+(1 if c[0][1]>c[1][1] else -1)] if (abs(c[0][0]-c[1][0])>0 and abs(c[0][1]-c[1][1])>0) else \n",
    "                       [c[1][0]+(1 if c[0][0]>c[1][0] else -1 if c[0][0]<c[1][0] else 0), c[1][1]+(1 if c[0][1]>c[1][1] else -1 if c[0][1]<c[1][1] else 0)],\n",
    "                       c[2] if c[1] in c[2] else c[2]+[c[1]]], \n",
    "         (b.split()[0]+'T')*int(b.split()[1]), a), day09_input.split(\"\\n\")+['F 1'], [[0, 0], [0, 0], [[0, 0]]])[2])"
   ]
  },
  {
   "cell_type": "code",
   "execution_count": 76,
   "metadata": {},
   "outputs": [],
   "source": [
    "day09_input = \"\"\"R 5\n",
    "U 8\n",
    "L 8\n",
    "D 3\n",
    "R 17\n",
    "D 10\n",
    "L 25\n",
    "U 20\"\"\""
   ]
  },
  {
   "cell_type": "code",
   "execution_count": 78,
   "metadata": {},
   "outputs": [
    {
     "data": {
      "text/plain": [
       "36"
      ]
     },
     "execution_count": 78,
     "metadata": {},
     "output_type": "execute_result"
    }
   ],
   "source": [
    "from functools import reduce\n",
    "len(\n",
    "  reduce(lambda a, b: \n",
    "    reduce(lambda c, d: \n",
    "      reduce(lambda e, f: [[[e[0][0][0]+(0 if f>0 else 1 if d=='R' else -1 if d=='L' else 0), e[0][0][1]+(0 if f>0 else 1 if d=='U' else -1 if d=='D' else 0)]]+\n",
    "                           [e[0][i] if i!=f or (abs(e[0][i-1][0]-e[0][i][0])<=1 and abs(e[0][i-1][1]-e[0][i][1])==1) or (abs(e[0][i-1][0]-e[0][i][0])==1 and abs(e[0][i-1][1]-e[0][i][1])<=1) else \n",
    "                            [e[0][i][0]+(1 if e[0][i-1][0]>e[0][i][0] else -1), e[0][i][1]+(1 if e[0][i-1][1]>e[0][i][1] else -1)] if (abs(e[0][i-1][0]-e[0][i][0])>0 and abs(e[0][i-1][1]-e[0][i][1])>0) else \n",
    "                            [e[0][i][0]+(1 if e[0][i-1][0]>e[0][i][0] else -1 if e[0][i-1][0]<e[0][i][0] else 0), e[0][i][1]+(1 if e[0][i-1][1]>e[0][i][1] else -1 if e[0][i-1][1]<e[0][i][1] else 0)]\n",
    "                            for i in range(1, 10)],\n",
    "                           e[1] if e[0][9] in e[1] else e[1]+[e[0][9]]], range(10), c), \n",
    "      (b.split()[0])*int(b.split()[1]), a), day09_input.split(\"\\n\")+['F 1'], [[[0, 0]]*10, [[0, 0]]])[1]) "
   ]
  },
  {
   "attachments": {},
   "cell_type": "markdown",
   "metadata": {},
   "source": [
    "## Day 10"
   ]
  },
  {
   "cell_type": "code",
   "execution_count": 37,
   "metadata": {},
   "outputs": [],
   "source": [
    "day10_input = \"\"\"addx 15\n",
    "addx -11\n",
    "addx 6\n",
    "addx -3\n",
    "addx 5\n",
    "addx -1\n",
    "addx -8\n",
    "addx 13\n",
    "addx 4\n",
    "noop\n",
    "addx -1\n",
    "addx 5\n",
    "addx -1\n",
    "addx 5\n",
    "addx -1\n",
    "addx 5\n",
    "addx -1\n",
    "addx 5\n",
    "addx -1\n",
    "addx -35\n",
    "addx 1\n",
    "addx 24\n",
    "addx -19\n",
    "addx 1\n",
    "addx 16\n",
    "addx -11\n",
    "noop\n",
    "noop\n",
    "addx 21\n",
    "addx -15\n",
    "noop\n",
    "noop\n",
    "addx -3\n",
    "addx 9\n",
    "addx 1\n",
    "addx -3\n",
    "addx 8\n",
    "addx 1\n",
    "addx 5\n",
    "noop\n",
    "noop\n",
    "noop\n",
    "noop\n",
    "noop\n",
    "addx -36\n",
    "noop\n",
    "addx 1\n",
    "addx 7\n",
    "noop\n",
    "noop\n",
    "noop\n",
    "addx 2\n",
    "addx 6\n",
    "noop\n",
    "noop\n",
    "noop\n",
    "noop\n",
    "noop\n",
    "addx 1\n",
    "noop\n",
    "noop\n",
    "addx 7\n",
    "addx 1\n",
    "noop\n",
    "addx -13\n",
    "addx 13\n",
    "addx 7\n",
    "noop\n",
    "addx 1\n",
    "addx -33\n",
    "noop\n",
    "noop\n",
    "noop\n",
    "addx 2\n",
    "noop\n",
    "noop\n",
    "noop\n",
    "addx 8\n",
    "noop\n",
    "addx -1\n",
    "addx 2\n",
    "addx 1\n",
    "noop\n",
    "addx 17\n",
    "addx -9\n",
    "addx 1\n",
    "addx 1\n",
    "addx -3\n",
    "addx 11\n",
    "noop\n",
    "noop\n",
    "addx 1\n",
    "noop\n",
    "addx 1\n",
    "noop\n",
    "noop\n",
    "addx -13\n",
    "addx -19\n",
    "addx 1\n",
    "addx 3\n",
    "addx 26\n",
    "addx -30\n",
    "addx 12\n",
    "addx -1\n",
    "addx 3\n",
    "addx 1\n",
    "noop\n",
    "noop\n",
    "noop\n",
    "addx -9\n",
    "addx 18\n",
    "addx 1\n",
    "addx 2\n",
    "noop\n",
    "noop\n",
    "addx 9\n",
    "noop\n",
    "noop\n",
    "noop\n",
    "addx -1\n",
    "addx 2\n",
    "addx -37\n",
    "addx 1\n",
    "addx 3\n",
    "noop\n",
    "addx 15\n",
    "addx -21\n",
    "addx 22\n",
    "addx -6\n",
    "addx 1\n",
    "noop\n",
    "addx 2\n",
    "addx 1\n",
    "noop\n",
    "addx -10\n",
    "noop\n",
    "noop\n",
    "addx 20\n",
    "addx 1\n",
    "addx 2\n",
    "addx 2\n",
    "addx -6\n",
    "addx -11\n",
    "noop\n",
    "noop\n",
    "noop\"\"\""
   ]
  },
  {
   "cell_type": "code",
   "execution_count": 38,
   "metadata": {},
   "outputs": [
    {
     "data": {
      "text/plain": [
       "13140"
      ]
     },
     "execution_count": 38,
     "metadata": {},
     "output_type": "execute_result"
    }
   ],
   "source": [
    "from functools import reduce\n",
    "reduce(lambda a, b: [\n",
    "  a[0]+(1 if b[:4]==\"noop\" else 2 if b[:4]==\"addx\" else 0),\n",
    "  a[1]+(0 if b[:4]==\"noop\" else int(b.split()[1]) if b[:4]==\"addx\" else 0),\n",
    "  a[2]+((a[0]+1)*a[1] if (a[0]+21)%40==0 else (a[0]+2)*a[1] if ((a[0]+22)%40==0 and b[:4]==\"addx\") else 0)\n",
    "  ] ,day10_input.split(\"\\n\"), [0, 1, 0])[2]"
   ]
  },
  {
   "cell_type": "code",
   "execution_count": 33,
   "metadata": {},
   "outputs": [
    {
     "name": "stdout",
     "output_type": "stream",
     "text": [
      "##..##..##..##..##..##..##..##..##..##..\n",
      "###...###...###...###...###...###...###.\n",
      "####....####....####....####....####....\n",
      "#####.....#####.....#####.....#####.....\n",
      "######......######......######......####\n",
      "#######.......#######.......#######.....\n",
      "\n"
     ]
    }
   ],
   "source": [
    "from functools import reduce\n",
    "print(reduce(lambda a, b: [\n",
    "  a[0]+(1 if b[:4]==\"noop\" else 2 if b[:4]==\"addx\" else 0),\n",
    "  a[1]+(0 if b[:4]==\"noop\" else int(b.split()[1]) if b[:4]==\"addx\" else 0),\n",
    "  a[2]+(\"#\" if abs((a[0])%40-a[1])<=1 else \".\")+(\"\\n\" if (a[0]+1)%40==0 else \"\")+\n",
    "  ((\"#\" if abs((a[0]+1)%40-a[1])<=1 else \".\")+(\"\\n\" if (a[0]+2)%40==0 else \"\") if b[:4]==\"addx\" else \"\")\n",
    "  ] ,day10_input.split(\"\\n\"), [0, 1, \"\"])[2])"
   ]
  },
  {
   "cell_type": "code",
   "execution_count": 34,
   "metadata": {},
   "outputs": [],
   "source": [
    "real_day10_input = \"\"\"addx 2\n",
    "addx 15\n",
    "addx -11\n",
    "addx 6\n",
    "noop\n",
    "noop\n",
    "noop\n",
    "addx -1\n",
    "addx 5\n",
    "addx -1\n",
    "addx 5\n",
    "noop\n",
    "noop\n",
    "noop\n",
    "noop\n",
    "noop\n",
    "addx 7\n",
    "addx -1\n",
    "addx 3\n",
    "addx 1\n",
    "addx 5\n",
    "addx 1\n",
    "noop\n",
    "addx -38\n",
    "noop\n",
    "addx 1\n",
    "addx 6\n",
    "addx 3\n",
    "noop\n",
    "addx -8\n",
    "noop\n",
    "addx 13\n",
    "addx 2\n",
    "addx 3\n",
    "addx -2\n",
    "addx 2\n",
    "noop\n",
    "addx 3\n",
    "addx 9\n",
    "addx -2\n",
    "addx 2\n",
    "addx -10\n",
    "addx 11\n",
    "addx 2\n",
    "addx -14\n",
    "addx -21\n",
    "addx 2\n",
    "noop\n",
    "addx 5\n",
    "addx 29\n",
    "addx -2\n",
    "noop\n",
    "addx -19\n",
    "noop\n",
    "addx 2\n",
    "addx 11\n",
    "addx -10\n",
    "addx 2\n",
    "addx 5\n",
    "addx -9\n",
    "noop\n",
    "addx 14\n",
    "addx 2\n",
    "addx 3\n",
    "addx -2\n",
    "addx 3\n",
    "addx 1\n",
    "noop\n",
    "addx -37\n",
    "noop\n",
    "addx 13\n",
    "addx -8\n",
    "noop\n",
    "noop\n",
    "noop\n",
    "noop\n",
    "addx 13\n",
    "addx -5\n",
    "addx 3\n",
    "addx 3\n",
    "addx 3\n",
    "noop\n",
    "noop\n",
    "noop\n",
    "noop\n",
    "noop\n",
    "noop\n",
    "noop\n",
    "addx 6\n",
    "addx 3\n",
    "addx 1\n",
    "addx 5\n",
    "addx -15\n",
    "addx 5\n",
    "addx -27\n",
    "addx 30\n",
    "addx -23\n",
    "addx 33\n",
    "addx -32\n",
    "addx 2\n",
    "addx 5\n",
    "addx 2\n",
    "addx -16\n",
    "addx 17\n",
    "addx 2\n",
    "addx -10\n",
    "addx 17\n",
    "addx 10\n",
    "addx -9\n",
    "addx 2\n",
    "addx 2\n",
    "addx 5\n",
    "addx -29\n",
    "addx -8\n",
    "noop\n",
    "noop\n",
    "noop\n",
    "addx 19\n",
    "addx -11\n",
    "addx -1\n",
    "addx 6\n",
    "noop\n",
    "noop\n",
    "addx -1\n",
    "addx 3\n",
    "noop\n",
    "addx 3\n",
    "addx 2\n",
    "addx -3\n",
    "addx 11\n",
    "addx -1\n",
    "addx 5\n",
    "addx -2\n",
    "addx 5\n",
    "addx 2\n",
    "noop\n",
    "noop\n",
    "addx 1\n",
    "noop\n",
    "noop\"\"\""
   ]
  },
  {
   "cell_type": "code",
   "execution_count": 36,
   "metadata": {},
   "outputs": [
    {
     "name": "stdout",
     "output_type": "stream",
     "text": [
      "####..##....##..##..###....##.###..####.\n",
      "#....#..#....#.#..#.#..#....#.#..#.#....\n",
      "###..#.......#.#..#.#..#....#.#..#.###..\n",
      "#....#.......#.####.###.....#.###..#....\n",
      "#....#..#.#..#.#..#.#....#..#.#.#..#....\n",
      "#.....##...##..#..#.#.....##..#..#.####.\n",
      "\n"
     ]
    }
   ],
   "source": [
    "from functools import reduce\n",
    "print(reduce(lambda a, b: [\n",
    "  a[0]+(1 if b[:4]==\"noop\" else 2 if b[:4]==\"addx\" else 0),\n",
    "  a[1]+(0 if b[:4]==\"noop\" else int(b.split()[1]) if b[:4]==\"addx\" else 0),\n",
    "  a[2]+(\"#\" if abs((a[0])%40-a[1])<=1 else \".\")+(\"\\n\" if (a[0]+1)%40==0 else \"\")+\n",
    "  ((\"#\" if abs((a[0]+1)%40-a[1])<=1 else \".\")+(\"\\n\" if (a[0]+2)%40==0 else \"\") if b[:4]==\"addx\" else \"\")\n",
    "  ] ,real_day10_input.split(\"\\n\"), [0, 1, \"\"])[2])"
   ]
  },
  {
   "attachments": {},
   "cell_type": "markdown",
   "metadata": {},
   "source": [
    "## Day 11"
   ]
  },
  {
   "cell_type": "code",
   "execution_count": 53,
   "metadata": {},
   "outputs": [],
   "source": [
    "day11_input = \"\"\"Monkey 0:\n",
    "  Starting items: 79, 98\n",
    "  Operation: new = old * 19\n",
    "  Test: divisible by 23\n",
    "    If true: throw to monkey 2\n",
    "    If false: throw to monkey 3\n",
    "\n",
    "Monkey 1:\n",
    "  Starting items: 54, 65, 75, 74\n",
    "  Operation: new = old + 6\n",
    "  Test: divisible by 19\n",
    "    If true: throw to monkey 2\n",
    "    If false: throw to monkey 0\n",
    "\n",
    "Monkey 2:\n",
    "  Starting items: 79, 60, 97\n",
    "  Operation: new = old * old\n",
    "  Test: divisible by 13\n",
    "    If true: throw to monkey 1\n",
    "    If false: throw to monkey 3\n",
    "\n",
    "Monkey 3:\n",
    "  Starting items: 74\n",
    "  Operation: new = old + 3\n",
    "  Test: divisible by 17\n",
    "    If true: throw to monkey 0\n",
    "    If false: throw to monkey 1\"\"\""
   ]
  },
  {
   "cell_type": "code",
   "execution_count": 54,
   "metadata": {},
   "outputs": [
    {
     "data": {
      "text/plain": [
       "10605"
      ]
     },
     "execution_count": 54,
     "metadata": {},
     "output_type": "execute_result"
    }
   ],
   "source": [
    "from functools import reduce\n",
    "(lambda z: (z[0])*(z[1]))(sorted([j[6] for j in \n",
    "  reduce(lambda a, b: \n",
    "    reduce(lambda c, d: \n",
    "      # c,\n",
    "      reduce(lambda e, f: \n",
    "        [\n",
    "          [i[0],\n",
    "          ([i[1][0]] if i[0]!=d[0] and len(i[1])>0 else [])+\n",
    "          (i[1][1:] if len(i[1])>1 else [])+\n",
    "          ([] if len(e[d[0]][1])==0 else (\n",
    "            [(lambda x, y: x+y if d[2][1]=='+' else x*y if d[2][1]=='*' else 999)(\n",
    "              e[d[0]][1][0] if d[2][0]=='old' else int(d[2][0]), \n",
    "              e[d[0]][1][0] if d[2][2]=='old' else int(d[2][2]))//3] if i[0]==(\n",
    "            d[4] if (lambda x, y: x+y if d[2][1]=='+' else x*y if d[2][1]=='*' else 999)(\n",
    "              e[d[0]][1][0] if d[2][0]=='old' else int(d[2][0]), \n",
    "              e[d[0]][1][0] if d[2][2]=='old' else int(d[2][2]))//3%d[3]==0\n",
    "            else d[5]) else [])),\n",
    "          i[2],\n",
    "          i[3],\n",
    "          i[4],\n",
    "          i[5],\n",
    "          i[6]+(1 if i[0]==d[0] and len(i[1])>0 else 0)\n",
    "          ] for i in e\n",
    "        ]\n",
    "        , c[d[0]][1], c),\n",
    "      a, a),\n",
    "    range(20),\n",
    "    [[int(m.replace(\":\",\" \").split()[1]),\n",
    "    [int(i) for i in m.split(\"\\n\")[1].replace(\",\",\"\").split()[2:]], \n",
    "    m.split(\"\\n\")[2].split()[3:],\n",
    "    int(m.split(\"\\n\")[3].split()[3]), \n",
    "    int(m.split(\"\\n\")[4].split()[5]),\n",
    "    int(m.split(\"\\n\")[5].split()[5]),\n",
    "    0] for m in day11_input.split(\"\\n\\n\")])])[-2:])"
   ]
  },
  {
   "cell_type": "code",
   "execution_count": 55,
   "metadata": {},
   "outputs": [
    {
     "data": {
      "text/plain": [
       "2713310158"
      ]
     },
     "execution_count": 55,
     "metadata": {},
     "output_type": "execute_result"
    }
   ],
   "source": [
    "from functools import reduce\n",
    "(lambda z: (z[0])*(z[1]))(sorted([j[6] for j in \n",
    "  reduce(lambda a, b: \n",
    "    reduce(lambda c, d: \n",
    "      # c,\n",
    "      reduce(lambda e, f: \n",
    "        [\n",
    "          [i[0],\n",
    "          ([i[1][0]] if i[0]!=d[0] and len(i[1])>0 else [])+\n",
    "          (i[1][1:] if len(i[1])>1 else [])+\n",
    "          ([] if len(e[d[0]][1])==0 else (\n",
    "            [(lambda x, y: x+y if d[2][1]=='+' else x*y%(reduce(lambda g, h: g*h, [j[3] for j in c])) if d[2][1]=='*' else 999)(\n",
    "              e[d[0]][1][0] if d[2][0]=='old' else int(d[2][0]), \n",
    "              e[d[0]][1][0] if d[2][2]=='old' else int(d[2][2]))] if i[0]==(\n",
    "            d[4] if (lambda x, y: x+y if d[2][1]=='+' else x*y if d[2][1]=='*' else 999)(\n",
    "              e[d[0]][1][0] if d[2][0]=='old' else int(d[2][0]), \n",
    "              e[d[0]][1][0] if d[2][2]=='old' else int(d[2][2]))%d[3]==0\n",
    "            else d[5]) else [])),\n",
    "          i[2],\n",
    "          i[3],\n",
    "          i[4],\n",
    "          i[5],\n",
    "          i[6]+(1 if i[0]==d[0] and len(i[1])>0 else 0)\n",
    "          ] for i in e\n",
    "        ]\n",
    "        , c[d[0]][1], c),\n",
    "      a, a),\n",
    "    range(10000),\n",
    "    [[int(m.replace(\":\",\" \").split()[1]),\n",
    "    [int(i) for i in m.split(\"\\n\")[1].replace(\",\",\"\").split()[2:]], \n",
    "    m.split(\"\\n\")[2].split()[3:],\n",
    "    int(m.split(\"\\n\")[3].split()[3]), \n",
    "    int(m.split(\"\\n\")[4].split()[5]),\n",
    "    int(m.split(\"\\n\")[5].split()[5]),\n",
    "    0] for m in day11_input.split(\"\\n\\n\")])])[-2:])"
   ]
  },
  {
   "attachments": {},
   "cell_type": "markdown",
   "metadata": {},
   "source": [
    "## Day 12\n",
    "\n",
    "Day 12 - Not a one-liner solution."
   ]
  },
  {
   "cell_type": "code",
   "execution_count": 38,
   "metadata": {},
   "outputs": [],
   "source": [
    "day12_input = \"\"\"Sabqponm\n",
    "abcryxxl\n",
    "accszExk\n",
    "acctuvwj\n",
    "abdefghi\"\"\""
   ]
  },
  {
   "cell_type": "code",
   "execution_count": 43,
   "metadata": {},
   "outputs": [
    {
     "name": "stdout",
     "output_type": "stream",
     "text": [
      "31\n"
     ]
    }
   ],
   "source": [
    "Arr = [[c for c in l] for l in day12_input.replace('S','a').split('\\n')]\n",
    "S = day12_input.find('S')//(len(day12_input.split('\\n')[0])+1), day12_input.find('S')%(len(day12_input.split('\\n')[0])+1)\n",
    "E = day12_input.find('E')//(len(day12_input.split('\\n')[0])+1), day12_input.find('E')%(len(day12_input.split('\\n')[0])+1)\n",
    "stack=[S, [-1,-1]]\n",
    "for i,j in stack:\n",
    "  if i!=-1:\n",
    "    for k, l in [[i-1, j], [i+1, j], [i, j-1], [i, j+1]]:\n",
    "      if k>=0 and l>=0 and k<len(Arr) and l<len(Arr[0]):\n",
    "        if Arr[k][l]=='E' and ord(Arr[i][j])>=ord('y'):\n",
    "          print(stack[:stack.index([i, j])].count([-1,-1])+1)\n",
    "          break\n",
    "        elif ord(Arr[k][l])<=(ord(Arr[i][j])+1) and not [k,l] in stack:\n",
    "          stack+=[[k,l]]\n",
    "    else:\n",
    "      continue\n",
    "    break\n",
    "  else: \n",
    "    stack+=[[-1, -1]]"
   ]
  },
  {
   "cell_type": "code",
   "execution_count": 42,
   "metadata": {},
   "outputs": [
    {
     "name": "stdout",
     "output_type": "stream",
     "text": [
      "29\n"
     ]
    }
   ],
   "source": [
    "Arr = [[c for c in l] for l in day12_input.replace('E','z').replace('S','a').split('\\n')]\n",
    "S = day12_input.find('S')//(len(day12_input.split('\\n')[0])+1), day12_input.find('S')%(len(day12_input.split('\\n')[0])+1)\n",
    "E = day12_input.find('E')//(len(day12_input.split('\\n')[0])+1), day12_input.find('E')%(len(day12_input.split('\\n')[0])+1)\n",
    "stack=[E, [-1, -1]]\n",
    "for i, j in stack:\n",
    "  if i!=-1:\n",
    "    for k, l in [[i-1, j], [i+1, j], [i, j-1], [i, j+1]]:\n",
    "      if k>=0 and l>=0 and k<len(Arr) and l<len(Arr[0]):\n",
    "        if Arr[k][l]=='a' and ord(Arr[i][j])<=ord('b'):\n",
    "          print(stack[:stack.index([i, j])].count([-1,-1])+1)\n",
    "          break\n",
    "        elif ord(Arr[k][l])>=(ord(Arr[i][j])-1) and not [k,l] in stack:\n",
    "          stack+=[[k,l]]\n",
    "    else:\n",
    "      continue\n",
    "    break\n",
    "  else:\n",
    "    stack+=[[-1, -1]]  "
   ]
  },
  {
   "cell_type": "code",
   "execution_count": null,
   "metadata": {},
   "outputs": [],
   "source": []
  }
 ],
 "metadata": {
  "kernelspec": {
   "display_name": "jupyter",
   "language": "python",
   "name": "python3"
  },
  "language_info": {
   "codemirror_mode": {
    "name": "ipython",
    "version": 3
   },
   "file_extension": ".py",
   "mimetype": "text/x-python",
   "name": "python",
   "nbconvert_exporter": "python",
   "pygments_lexer": "ipython3",
   "version": "3.10.8"
  },
  "vscode": {
   "interpreter": {
    "hash": "509274d51f85e792b73d8c86df1fdda72450910fa53d8f87a3294dd7baf65486"
   }
  }
 },
 "nbformat": 4,
 "nbformat_minor": 4
}

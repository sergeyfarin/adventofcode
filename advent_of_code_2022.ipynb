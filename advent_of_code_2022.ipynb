{
 "cells": [
  {
   "cell_type": "markdown",
   "metadata": {},
   "source": [
    "# Advent of Code 2022 with Python 🎄"
   ]
  },
  {
   "cell_type": "markdown",
   "metadata": {},
   "source": [
    "## Day 1"
   ]
  },
  {
   "cell_type": "code",
   "execution_count": 1,
   "metadata": {},
   "outputs": [],
   "source": [
    "day01_input = \"\"\"1000\n",
    "2000\n",
    "3000\n",
    "\n",
    "4000\n",
    "\n",
    "5000\n",
    "6000\n",
    "\n",
    "7000\n",
    "8000\n",
    "9000\n",
    "\n",
    "10000\"\"\""
   ]
  },
  {
   "cell_type": "code",
   "execution_count": 2,
   "metadata": {},
   "outputs": [
    {
     "name": "stdout",
     "output_type": "stream",
     "text": [
      "24000\n"
     ]
    }
   ],
   "source": [
    "print(max([sum([int(y) if y!=\"\" else 0 for y in x.split(\"\\n\")]) for x in day01_input.split(\"\\n\\n\")]))"
   ]
  },
  {
   "cell_type": "code",
   "execution_count": 3,
   "metadata": {},
   "outputs": [
    {
     "name": "stdout",
     "output_type": "stream",
     "text": [
      "45000\n"
     ]
    }
   ],
   "source": [
    "print(sum(sorted([sum([int(y) if y!=\"\" else 0 for y in x.split(\"\\n\")]) for x in day01_input.split(\"\\n\\n\")])[-3:]))"
   ]
  },
  {
   "cell_type": "markdown",
   "metadata": {},
   "source": [
    "## Day 2"
   ]
  },
  {
   "cell_type": "code",
   "execution_count": 4,
   "metadata": {},
   "outputs": [],
   "source": [
    "day02_input = \"\"\"A Y\n",
    "B X\n",
    "C Z\"\"\""
   ]
  },
  {
   "cell_type": "code",
   "execution_count": 5,
   "metadata": {},
   "outputs": [
    {
     "name": "stdout",
     "output_type": "stream",
     "text": [
      "15\n"
     ]
    }
   ],
   "source": [
    "print(sum([(ord(x[2])-87+(6 if ord(x[2])-ord(x[0])==24 or ord(x[2])-ord(x[0])==21 else 3 if ord(x[2])-ord(x[0])==23 else 0)) for x in day02_input.split(\"\\n\")]))"
   ]
  },
  {
   "cell_type": "code",
   "execution_count": 6,
   "metadata": {},
   "outputs": [
    {
     "name": "stdout",
     "output_type": "stream",
     "text": [
      "12\n"
     ]
    }
   ],
   "source": [
    "print(sum([((ord(x[2])-88)*3+(ord(x[0])-65+ord(x[2])-89)%3+1) for x in day02_input.split(\"\\n\")]))"
   ]
  },
  {
   "cell_type": "markdown",
   "metadata": {},
   "source": [
    "## Day 3"
   ]
  },
  {
   "cell_type": "code",
   "execution_count": 7,
   "metadata": {},
   "outputs": [],
   "source": [
    "day03_input = \"\"\"vJrwpWtwJgWrhcsFMMfFFhFp\n",
    "jqHRNqRjqzjGDLGLrsFMfFZSrLrFZsSL\n",
    "PmmdzqPrVvPwwTWBwg\n",
    "wMqvLMZHhHMvwLHjbvcjnnSBnvTQFn\n",
    "ttgJtRGJQctTZtZT\n",
    "CrZsJsPPZsGzwwsLwLmpwMDw\"\"\""
   ]
  },
  {
   "cell_type": "code",
   "execution_count": 8,
   "metadata": {},
   "outputs": [
    {
     "name": "stdout",
     "output_type": "stream",
     "text": [
      "157\n"
     ]
    }
   ],
   "source": [
    "print(sum([sum([ord(i)-96 if ord(i)>96 else ord(i)-64+26 for i in set(r[:(len(r)//2)]).intersection(r[(len(r)//2):])]) for r in day03_input.split(\"\\n\")]))"
   ]
  },
  {
   "cell_type": "code",
   "execution_count": 9,
   "metadata": {},
   "outputs": [
    {
     "name": "stdout",
     "output_type": "stream",
     "text": [
      "70\n"
     ]
    }
   ],
   "source": [
    "print(sum([sum(map(lambda i: ord(i)-96 if ord(i)>96 else ord(i)-64+26, set(g[0]).intersection(g[1]).intersection(g[2]))) for g in [day03_input.split(\"\\n\")[i:i+3] for i in range(0, len(day03_input.split(\"\\n\")), 3)]]))"
   ]
  },
  {
   "cell_type": "markdown",
   "metadata": {},
   "source": [
    "## Day 4"
   ]
  },
  {
   "cell_type": "code",
   "execution_count": 61,
   "metadata": {},
   "outputs": [],
   "source": [
    "day04_input = \"\"\"2-4,6-8\n",
    "2-3,4-5\n",
    "5-7,7-9\n",
    "2-8,3-7\n",
    "6-6,4-6\n",
    "2-6,4-8\"\"\""
   ]
  },
  {
   "cell_type": "code",
   "execution_count": 62,
   "metadata": {},
   "outputs": [
    {
     "name": "stdout",
     "output_type": "stream",
     "text": [
      "2\n"
     ]
    }
   ],
   "source": [
    "print(len(list(filter(lambda x: ((x[0]>=x[2] and x[1]<=x[3]) or (x[2]>=x[0] and x[3]<=x[1])), [[int(y) for y in pair.replace(',','-').split(\"-\")] for pair in day04_input.split(\"\\n\")]))))"
   ]
  },
  {
   "cell_type": "code",
   "execution_count": 63,
   "metadata": {},
   "outputs": [
    {
     "name": "stdout",
     "output_type": "stream",
     "text": [
      "4\n"
     ]
    }
   ],
   "source": [
    "print(len(list(filter(lambda x: ((x[0]>=x[2] and x[0]<=x[3]) or (x[1]>=x[2] and x[1]<=x[3]) or (x[2]>=x[0] and x[2]<=x[1]) or (x[3]>=x[0] and x[3]<=x[1])), [[int(y) for y in pair.replace(',','-').split(\"-\")] for pair in day04_input.split(\"\\n\")]))))"
   ]
  },
  {
   "cell_type": "markdown",
   "metadata": {},
   "source": [
    "## Day 5"
   ]
  },
  {
   "cell_type": "code",
   "execution_count": 110,
   "metadata": {},
   "outputs": [],
   "source": [
    "day05_input = \"\"\"    [D]    \n",
    "[N] [C]    \n",
    "[Z] [M] [P]\n",
    " 1   2   3 \n",
    "\n",
    "move 1 from 2 to 1\n",
    "move 3 from 1 to 3\n",
    "move 2 from 2 to 1\n",
    "move 1 from 1 to 2\"\"\"\n"
   ]
  },
  {
   "cell_type": "code",
   "execution_count": 111,
   "metadata": {},
   "outputs": [
    {
     "data": {
      "text/plain": [
       "'CMZ'"
      ]
     },
     "execution_count": 111,
     "metadata": {},
     "output_type": "execute_result"
    }
   ],
   "source": [
    "from functools import reduce\n",
    "\n",
    "# First line of \"one-liner solution\" to get last elements of each stack\n",
    "reduce(lambda c, d: c+d[-1], \n",
    "       # Second line performs rearrangements of stacks (\"crane operations\"), reduce function takes as arguments: 1) function (this line)\n",
    "       reduce(lambda a,b: [a[i][:-b[0]] if i==b[1]-1 else a[i]+a[b[1]-1][:-b[0]-1:-1] if i==b[2]-1 else a[i] for i, s in enumerate(a)], \n",
    "              # Next line prepares array of crane actions, each line with 3 numbers\n",
    "              [[int(line.split()[0]), int(line.split()[1]), int(line.split()[2])] for line in day05_input.split('\\n\\n')[1].replace('move ','').replace(' from ',' ').replace(' to ',' ').split('\\n')], \n",
    "              # Next line prepares initial array of stacks in a format [['Z', 'N'], ['M', 'C', 'D'], ['P']]\n",
    "              [list(filter(lambda x: x!=' ', [line[i*4+1] for line in day05_input.split('\\n\\n')[0].split('\\n')[:-1]][::-1])) for i in range(len(day05_input.split('\\n')[0][1::4]))]),\n",
    "       '')"
   ]
  },
  {
   "cell_type": "code",
   "execution_count": 112,
   "metadata": {},
   "outputs": [
    {
     "data": {
      "text/plain": [
       "'MCD'"
      ]
     },
     "execution_count": 112,
     "metadata": {},
     "output_type": "execute_result"
    }
   ],
   "source": [
    "reduce(lambda c, d: c+d[-1], \n",
    "       reduce(lambda a,b: [a[i][:-b[0]] if i==b[1]-1 else a[i]+a[b[1]-1][-b[0]:] if i==b[2]-1 else a[i] for i, s in enumerate(a)], \n",
    "              [[int(line.split()[0]), int(line.split()[1]), int(line.split()[2])] for line in day05_input.split('\\n\\n')[1].replace('move ','').replace(' from ',' ').replace(' to ',' ').split('\\n')], \n",
    "              [list(filter(lambda x: x!=' ', [line[i*4+1] for line in day05_input.split('\\n\\n')[0].split('\\n')[:-1]][::-1])) for i in range(len(day05_input.split('\\n')[0][1::4]))]),\n",
    "       '')"
   ]
  },
  {
   "cell_type": "markdown",
   "metadata": {},
   "source": [
    "## Day 6"
   ]
  },
  {
   "cell_type": "code",
   "execution_count": 30,
   "metadata": {},
   "outputs": [],
   "source": [
    "day06_input = \"\"\"nppdvjthqldpwncqszvftbrmjlhg\"\"\""
   ]
  },
  {
   "cell_type": "code",
   "execution_count": 31,
   "metadata": {},
   "outputs": [
    {
     "data": {
      "text/plain": [
       "6"
      ]
     },
     "execution_count": 31,
     "metadata": {},
     "output_type": "execute_result"
    }
   ],
   "source": [
    "[1 if ((c!=day06_input[i+1]) and \n",
    "       (c!=day06_input[i+2]) and \n",
    "       (c!=day06_input[i+3]) and \n",
    "       (day06_input[i+1]!=day06_input[i+2]) and \n",
    "       (day06_input[i+1]!=day06_input[i+3]) and\n",
    "       (day06_input[i+2]!=day06_input[i+3])) else 0 for i, c in enumerate(day06_input[:-3])].index(1)+4"
   ]
  },
  {
   "cell_type": "code",
   "execution_count": 32,
   "metadata": {},
   "outputs": [
    {
     "data": {
      "text/plain": [
       "23"
      ]
     },
     "execution_count": 32,
     "metadata": {},
     "output_type": "execute_result"
    }
   ],
   "source": [
    "[sum([1 if c2 in day06_input[i+i2+1:i+14] else 0 for i2, c2 in enumerate(day06_input[i:i+14])]) for i, c in enumerate(day06_input[:-13])].index(0)+14"
   ]
  },
  {
   "cell_type": "markdown",
   "metadata": {},
   "source": [
    "## Day 7"
   ]
  },
  {
   "cell_type": "code",
   "execution_count": 77,
   "metadata": {},
   "outputs": [],
   "source": [
    "day07_input = \"\"\"$ cd /\n",
    "$ ls\n",
    "dir a\n",
    "14848514 b.txt\n",
    "8504156 c.dat\n",
    "dir d\n",
    "$ cd a\n",
    "$ ls\n",
    "dir e\n",
    "29116 f\n",
    "2557 g\n",
    "62596 h.lst\n",
    "$ cd e\n",
    "$ ls\n",
    "584 i\n",
    "$ cd ..\n",
    "$ cd ..\n",
    "$ cd d\n",
    "$ ls\n",
    "4060174 j\n",
    "8033020 d.log\n",
    "5626152 d.ext\n",
    "7214296 k\"\"\""
   ]
  },
  {
   "cell_type": "code",
   "execution_count": 78,
   "metadata": {},
   "outputs": [
    {
     "data": {
      "text/plain": [
       "95437"
      ]
     },
     "execution_count": 78,
     "metadata": {},
     "output_type": "execute_result"
    }
   ],
   "source": [
    "from functools import reduce\n",
    "sum([\n",
    "    reduce(lambda a, b: [a[0], 0] if a[1]==0 else [a[0], a[1]-1] if \"$ cd ..\" in b else [a[0], a[1]+1] if \"$ cd \" in b else ([0, 0] if a[0]+int(b.split()[0])>100000 else [a[0]+int(b.split()[0]), a[1]]) if not (b[0] in \"d$\") else [a[0], a[1]], day07_input.split(\"\\n\")[i+1:], [0, 1])[0]\n",
    "    if not \"$ cd ..\" in c and \"$ cd \" in c else 0 for i, c in enumerate(day07_input.split(\"\\n\")[:-1])])"
   ]
  },
  {
   "cell_type": "code",
   "execution_count": 79,
   "metadata": {},
   "outputs": [
    {
     "data": {
      "text/plain": [
       "24933642"
      ]
     },
     "execution_count": 79,
     "metadata": {},
     "output_type": "execute_result"
    }
   ],
   "source": [
    "reduce(lambda e, f: e if f==0 else e if f[1]<(30000000 - (70000000 - sum([int(d.split()[0]) if not d[0] in \"d$\" else 0 for d in day07_input.split(\"\\n\")[1:]]))) else e if f[1]>e[1] else f,\n",
    "       [[c[5:], reduce(lambda a, b: [a[0], 0] if a[1]==0 else [a[0], a[1]-1] if \"$ cd ..\" in b else [a[0], a[1]+1] if \"$ cd \" in b else [a[0]+int(b.split()[0]), a[1]] if not (b[0] in \"d$\") else [a[0], a[1]], day07_input.split(\"\\n\")[i+1:], [0, 1])[0]]\n",
    "        if not \"$ cd ..\" in c and \"$ cd \" in c else 0 for i, c in enumerate(day07_input.split(\"\\n\")[:-1])])[1]"
   ]
  },
  {
   "cell_type": "markdown",
   "metadata": {},
   "source": [
    "## Day 8"
   ]
  },
  {
   "cell_type": "code",
   "execution_count": 50,
   "metadata": {},
   "outputs": [],
   "source": [
    "day08_input = \"\"\"30373\n",
    "25512\n",
    "65332\n",
    "33549\n",
    "35390\"\"\""
   ]
  },
  {
   "cell_type": "code",
   "execution_count": 51,
   "metadata": {},
   "outputs": [
    {
     "data": {
      "text/plain": [
       "21"
      ]
     },
     "execution_count": 51,
     "metadata": {},
     "output_type": "execute_result"
    }
   ],
   "source": [
    "from functools import reduce\n",
    "reduce(lambda a, b: [a[0], a[1]+(1 if b[0]==0 or b[1]==0 or b[0]==len(a[0])-1 or b[1]==len(a[0][0])-1 else \n",
    "                                 1 if a[0][b[0]][b[1]]>max(a[0][b[0]][:b[1]]) or a[0][b[0]][b[1]]>max(a[0][b[0]][b[1]+1:]) or \n",
    "                                 a[0][b[0]][b[1]]>max([c[b[1]] for c in a[0][:b[0]]]) or \n",
    "                                 a[0][b[0]][b[1]]>max([c[b[1]] for c in a[0][b[0]+1:]]) else 0)],\n",
    "       [(i,j) for i,a in enumerate(day08_input.split(\"\\n\"))  for j,b in enumerate(a)],\n",
    "       [[[int(b) for j,b in enumerate(a)] for i,a in enumerate(day08_input.split(\"\\n\"))], 0])[1]"
   ]
  },
  {
   "cell_type": "code",
   "execution_count": 52,
   "metadata": {},
   "outputs": [
    {
     "data": {
      "text/plain": [
       "8"
      ]
     },
     "execution_count": 52,
     "metadata": {},
     "output_type": "execute_result"
    }
   ],
   "source": [
    "from functools import reduce\n",
    "reduce(lambda a, b: [a[0], max(a[1], 0 if b[0]==0 or b[1]==0 or b[0]==len(a[0])-1 or b[1]==len(a[0][0])-1 else \n",
    "                                     reduce(lambda c, d: c if c[1]==1 else [c[0]+1, 0] if a[0][b[0]][b[1]]>d else [c[0]+1, 1], a[0][b[0]][b[1]-1::-1] ,[0,0])[0]*\n",
    "                                     reduce(lambda c, d: c if c[1]==1 else [c[0]+1, 0] if a[0][b[0]][b[1]]>d else [c[0]+1, 1], a[0][b[0]][b[1]+1:] ,[0,0])[0]*\n",
    "                                     reduce(lambda c, d: c if c[1]==1 else [c[0]+1, 0] if a[0][b[0]][b[1]]>d else [c[0]+1, 1], [d[b[1]] for d in a[0][b[0]-1::-1]] ,[0,0])[0]*\n",
    "                                     reduce(lambda c, d: c if c[1]==1 else [c[0]+1, 0] if a[0][b[0]][b[1]]>d else [c[0]+1, 1], [d[b[1]] for d in a[0][b[0]+1:]] ,[0,0])[0])],\n",
    "       [(i,j) for i,a in enumerate(day08_input.split(\"\\n\"))  for j,b in enumerate(a)],\n",
    "       [[[int(b) for j,b in enumerate(a)] for i,a in enumerate(day08_input.split(\"\\n\"))], 0])[1]"
   ]
  },
  {
   "cell_type": "markdown",
   "metadata": {},
   "source": [
    "## Day 9"
   ]
  },
  {
   "cell_type": "code",
   "execution_count": 74,
   "metadata": {},
   "outputs": [],
   "source": [
    "day09_input = \"\"\"R 4\n",
    "U 4\n",
    "L 3\n",
    "D 1\n",
    "R 4\n",
    "D 1\n",
    "L 5\n",
    "R 2\"\"\""
   ]
  },
  {
   "cell_type": "code",
   "execution_count": 75,
   "metadata": {},
   "outputs": [
    {
     "data": {
      "text/plain": [
       "13"
      ]
     },
     "execution_count": 75,
     "metadata": {},
     "output_type": "execute_result"
    }
   ],
   "source": [
    "from functools import reduce\n",
    "len(reduce(lambda a, b: \n",
    "  reduce(lambda c, d: [[c[0][0]+(1 if d=='R' else -1 if d=='L' else 0), c[0][1]+(1 if d=='U' else -1 if d=='D' else 0)], \n",
    "                       c[1] if d!='T' or (abs(c[0][0]-c[1][0])<=1 and abs(c[0][1]-c[1][1])==1) or (abs(c[0][0]-c[1][0])==1 and abs(c[0][1]-c[1][1])<=1) else \n",
    "                       [c[1][0]+(1 if c[0][0]>c[1][0] else -1), c[1][1]+(1 if c[0][1]>c[1][1] else -1)] if (abs(c[0][0]-c[1][0])>0 and abs(c[0][1]-c[1][1])>0) else \n",
    "                       [c[1][0]+(1 if c[0][0]>c[1][0] else -1 if c[0][0]<c[1][0] else 0), c[1][1]+(1 if c[0][1]>c[1][1] else -1 if c[0][1]<c[1][1] else 0)],\n",
    "                       c[2] if c[1] in c[2] else c[2]+[c[1]]], \n",
    "         (b.split()[0]+'T')*int(b.split()[1]), a), day09_input.split(\"\\n\")+['F 1'], [[0, 0], [0, 0], [[0, 0]]])[2])"
   ]
  },
  {
   "cell_type": "code",
   "execution_count": 76,
   "metadata": {},
   "outputs": [],
   "source": [
    "day09_input = \"\"\"R 5\n",
    "U 8\n",
    "L 8\n",
    "D 3\n",
    "R 17\n",
    "D 10\n",
    "L 25\n",
    "U 20\"\"\""
   ]
  },
  {
   "cell_type": "code",
   "execution_count": 78,
   "metadata": {},
   "outputs": [
    {
     "data": {
      "text/plain": [
       "36"
      ]
     },
     "execution_count": 78,
     "metadata": {},
     "output_type": "execute_result"
    }
   ],
   "source": [
    "from functools import reduce\n",
    "len(\n",
    "  reduce(lambda a, b: \n",
    "    reduce(lambda c, d: \n",
    "      reduce(lambda e, f: [[[e[0][0][0]+(0 if f>0 else 1 if d=='R' else -1 if d=='L' else 0), e[0][0][1]+(0 if f>0 else 1 if d=='U' else -1 if d=='D' else 0)]]+\n",
    "                           [e[0][i] if i!=f or (abs(e[0][i-1][0]-e[0][i][0])<=1 and abs(e[0][i-1][1]-e[0][i][1])==1) or (abs(e[0][i-1][0]-e[0][i][0])==1 and abs(e[0][i-1][1]-e[0][i][1])<=1) else \n",
    "                            [e[0][i][0]+(1 if e[0][i-1][0]>e[0][i][0] else -1), e[0][i][1]+(1 if e[0][i-1][1]>e[0][i][1] else -1)] if (abs(e[0][i-1][0]-e[0][i][0])>0 and abs(e[0][i-1][1]-e[0][i][1])>0) else \n",
    "                            [e[0][i][0]+(1 if e[0][i-1][0]>e[0][i][0] else -1 if e[0][i-1][0]<e[0][i][0] else 0), e[0][i][1]+(1 if e[0][i-1][1]>e[0][i][1] else -1 if e[0][i-1][1]<e[0][i][1] else 0)]\n",
    "                            for i in range(1, 10)],\n",
    "                           e[1] if e[0][9] in e[1] else e[1]+[e[0][9]]], range(10), c), \n",
    "      (b.split()[0])*int(b.split()[1]), a), day09_input.split(\"\\n\")+['F 1'], [[[0, 0]]*10, [[0, 0]]])[1]) "
   ]
  },
  {
   "attachments": {},
   "cell_type": "markdown",
   "metadata": {},
   "source": [
    "## Day 10"
   ]
  },
  {
   "cell_type": "code",
   "execution_count": 37,
   "metadata": {},
   "outputs": [],
   "source": [
    "day10_input = \"\"\"addx 15\n",
    "addx -11\n",
    "addx 6\n",
    "addx -3\n",
    "addx 5\n",
    "addx -1\n",
    "addx -8\n",
    "addx 13\n",
    "addx 4\n",
    "noop\n",
    "addx -1\n",
    "addx 5\n",
    "addx -1\n",
    "addx 5\n",
    "addx -1\n",
    "addx 5\n",
    "addx -1\n",
    "addx 5\n",
    "addx -1\n",
    "addx -35\n",
    "addx 1\n",
    "addx 24\n",
    "addx -19\n",
    "addx 1\n",
    "addx 16\n",
    "addx -11\n",
    "noop\n",
    "noop\n",
    "addx 21\n",
    "addx -15\n",
    "noop\n",
    "noop\n",
    "addx -3\n",
    "addx 9\n",
    "addx 1\n",
    "addx -3\n",
    "addx 8\n",
    "addx 1\n",
    "addx 5\n",
    "noop\n",
    "noop\n",
    "noop\n",
    "noop\n",
    "noop\n",
    "addx -36\n",
    "noop\n",
    "addx 1\n",
    "addx 7\n",
    "noop\n",
    "noop\n",
    "noop\n",
    "addx 2\n",
    "addx 6\n",
    "noop\n",
    "noop\n",
    "noop\n",
    "noop\n",
    "noop\n",
    "addx 1\n",
    "noop\n",
    "noop\n",
    "addx 7\n",
    "addx 1\n",
    "noop\n",
    "addx -13\n",
    "addx 13\n",
    "addx 7\n",
    "noop\n",
    "addx 1\n",
    "addx -33\n",
    "noop\n",
    "noop\n",
    "noop\n",
    "addx 2\n",
    "noop\n",
    "noop\n",
    "noop\n",
    "addx 8\n",
    "noop\n",
    "addx -1\n",
    "addx 2\n",
    "addx 1\n",
    "noop\n",
    "addx 17\n",
    "addx -9\n",
    "addx 1\n",
    "addx 1\n",
    "addx -3\n",
    "addx 11\n",
    "noop\n",
    "noop\n",
    "addx 1\n",
    "noop\n",
    "addx 1\n",
    "noop\n",
    "noop\n",
    "addx -13\n",
    "addx -19\n",
    "addx 1\n",
    "addx 3\n",
    "addx 26\n",
    "addx -30\n",
    "addx 12\n",
    "addx -1\n",
    "addx 3\n",
    "addx 1\n",
    "noop\n",
    "noop\n",
    "noop\n",
    "addx -9\n",
    "addx 18\n",
    "addx 1\n",
    "addx 2\n",
    "noop\n",
    "noop\n",
    "addx 9\n",
    "noop\n",
    "noop\n",
    "noop\n",
    "addx -1\n",
    "addx 2\n",
    "addx -37\n",
    "addx 1\n",
    "addx 3\n",
    "noop\n",
    "addx 15\n",
    "addx -21\n",
    "addx 22\n",
    "addx -6\n",
    "addx 1\n",
    "noop\n",
    "addx 2\n",
    "addx 1\n",
    "noop\n",
    "addx -10\n",
    "noop\n",
    "noop\n",
    "addx 20\n",
    "addx 1\n",
    "addx 2\n",
    "addx 2\n",
    "addx -6\n",
    "addx -11\n",
    "noop\n",
    "noop\n",
    "noop\"\"\""
   ]
  },
  {
   "cell_type": "code",
   "execution_count": 38,
   "metadata": {},
   "outputs": [
    {
     "data": {
      "text/plain": [
       "13140"
      ]
     },
     "execution_count": 38,
     "metadata": {},
     "output_type": "execute_result"
    }
   ],
   "source": [
    "from functools import reduce\n",
    "reduce(lambda a, b: [\n",
    "  a[0]+(1 if b[:4]==\"noop\" else 2 if b[:4]==\"addx\" else 0),\n",
    "  a[1]+(0 if b[:4]==\"noop\" else int(b.split()[1]) if b[:4]==\"addx\" else 0),\n",
    "  a[2]+((a[0]+1)*a[1] if (a[0]+21)%40==0 else (a[0]+2)*a[1] if ((a[0]+22)%40==0 and b[:4]==\"addx\") else 0)\n",
    "  ] ,day10_input.split(\"\\n\"), [0, 1, 0])[2]"
   ]
  },
  {
   "cell_type": "code",
   "execution_count": 33,
   "metadata": {},
   "outputs": [
    {
     "name": "stdout",
     "output_type": "stream",
     "text": [
      "##..##..##..##..##..##..##..##..##..##..\n",
      "###...###...###...###...###...###...###.\n",
      "####....####....####....####....####....\n",
      "#####.....#####.....#####.....#####.....\n",
      "######......######......######......####\n",
      "#######.......#######.......#######.....\n",
      "\n"
     ]
    }
   ],
   "source": [
    "from functools import reduce\n",
    "print(reduce(lambda a, b: [\n",
    "  a[0]+(1 if b[:4]==\"noop\" else 2 if b[:4]==\"addx\" else 0),\n",
    "  a[1]+(0 if b[:4]==\"noop\" else int(b.split()[1]) if b[:4]==\"addx\" else 0),\n",
    "  a[2]+(\"#\" if abs((a[0])%40-a[1])<=1 else \".\")+(\"\\n\" if (a[0]+1)%40==0 else \"\")+\n",
    "  ((\"#\" if abs((a[0]+1)%40-a[1])<=1 else \".\")+(\"\\n\" if (a[0]+2)%40==0 else \"\") if b[:4]==\"addx\" else \"\")\n",
    "  ] ,day10_input.split(\"\\n\"), [0, 1, \"\"])[2])"
   ]
  },
  {
   "cell_type": "code",
   "execution_count": 34,
   "metadata": {},
   "outputs": [],
   "source": [
    "real_day10_input = \"\"\"addx 2\n",
    "addx 15\n",
    "addx -11\n",
    "addx 6\n",
    "noop\n",
    "noop\n",
    "noop\n",
    "addx -1\n",
    "addx 5\n",
    "addx -1\n",
    "addx 5\n",
    "noop\n",
    "noop\n",
    "noop\n",
    "noop\n",
    "noop\n",
    "addx 7\n",
    "addx -1\n",
    "addx 3\n",
    "addx 1\n",
    "addx 5\n",
    "addx 1\n",
    "noop\n",
    "addx -38\n",
    "noop\n",
    "addx 1\n",
    "addx 6\n",
    "addx 3\n",
    "noop\n",
    "addx -8\n",
    "noop\n",
    "addx 13\n",
    "addx 2\n",
    "addx 3\n",
    "addx -2\n",
    "addx 2\n",
    "noop\n",
    "addx 3\n",
    "addx 9\n",
    "addx -2\n",
    "addx 2\n",
    "addx -10\n",
    "addx 11\n",
    "addx 2\n",
    "addx -14\n",
    "addx -21\n",
    "addx 2\n",
    "noop\n",
    "addx 5\n",
    "addx 29\n",
    "addx -2\n",
    "noop\n",
    "addx -19\n",
    "noop\n",
    "addx 2\n",
    "addx 11\n",
    "addx -10\n",
    "addx 2\n",
    "addx 5\n",
    "addx -9\n",
    "noop\n",
    "addx 14\n",
    "addx 2\n",
    "addx 3\n",
    "addx -2\n",
    "addx 3\n",
    "addx 1\n",
    "noop\n",
    "addx -37\n",
    "noop\n",
    "addx 13\n",
    "addx -8\n",
    "noop\n",
    "noop\n",
    "noop\n",
    "noop\n",
    "addx 13\n",
    "addx -5\n",
    "addx 3\n",
    "addx 3\n",
    "addx 3\n",
    "noop\n",
    "noop\n",
    "noop\n",
    "noop\n",
    "noop\n",
    "noop\n",
    "noop\n",
    "addx 6\n",
    "addx 3\n",
    "addx 1\n",
    "addx 5\n",
    "addx -15\n",
    "addx 5\n",
    "addx -27\n",
    "addx 30\n",
    "addx -23\n",
    "addx 33\n",
    "addx -32\n",
    "addx 2\n",
    "addx 5\n",
    "addx 2\n",
    "addx -16\n",
    "addx 17\n",
    "addx 2\n",
    "addx -10\n",
    "addx 17\n",
    "addx 10\n",
    "addx -9\n",
    "addx 2\n",
    "addx 2\n",
    "addx 5\n",
    "addx -29\n",
    "addx -8\n",
    "noop\n",
    "noop\n",
    "noop\n",
    "addx 19\n",
    "addx -11\n",
    "addx -1\n",
    "addx 6\n",
    "noop\n",
    "noop\n",
    "addx -1\n",
    "addx 3\n",
    "noop\n",
    "addx 3\n",
    "addx 2\n",
    "addx -3\n",
    "addx 11\n",
    "addx -1\n",
    "addx 5\n",
    "addx -2\n",
    "addx 5\n",
    "addx 2\n",
    "noop\n",
    "noop\n",
    "addx 1\n",
    "noop\n",
    "noop\"\"\""
   ]
  },
  {
   "cell_type": "code",
   "execution_count": 36,
   "metadata": {},
   "outputs": [
    {
     "name": "stdout",
     "output_type": "stream",
     "text": [
      "####..##....##..##..###....##.###..####.\n",
      "#....#..#....#.#..#.#..#....#.#..#.#....\n",
      "###..#.......#.#..#.#..#....#.#..#.###..\n",
      "#....#.......#.####.###.....#.###..#....\n",
      "#....#..#.#..#.#..#.#....#..#.#.#..#....\n",
      "#.....##...##..#..#.#.....##..#..#.####.\n",
      "\n"
     ]
    }
   ],
   "source": [
    "from functools import reduce\n",
    "print(reduce(lambda a, b: [\n",
    "  a[0]+(1 if b[:4]==\"noop\" else 2 if b[:4]==\"addx\" else 0),\n",
    "  a[1]+(0 if b[:4]==\"noop\" else int(b.split()[1]) if b[:4]==\"addx\" else 0),\n",
    "  a[2]+(\"#\" if abs((a[0])%40-a[1])<=1 else \".\")+(\"\\n\" if (a[0]+1)%40==0 else \"\")+\n",
    "  ((\"#\" if abs((a[0]+1)%40-a[1])<=1 else \".\")+(\"\\n\" if (a[0]+2)%40==0 else \"\") if b[:4]==\"addx\" else \"\")\n",
    "  ] ,real_day10_input.split(\"\\n\"), [0, 1, \"\"])[2])"
   ]
  },
  {
   "attachments": {},
   "cell_type": "markdown",
   "metadata": {},
   "source": [
    "## Day 11"
   ]
  },
  {
   "cell_type": "code",
   "execution_count": 53,
   "metadata": {},
   "outputs": [],
   "source": [
    "day11_input = \"\"\"Monkey 0:\n",
    "  Starting items: 79, 98\n",
    "  Operation: new = old * 19\n",
    "  Test: divisible by 23\n",
    "    If true: throw to monkey 2\n",
    "    If false: throw to monkey 3\n",
    "\n",
    "Monkey 1:\n",
    "  Starting items: 54, 65, 75, 74\n",
    "  Operation: new = old + 6\n",
    "  Test: divisible by 19\n",
    "    If true: throw to monkey 2\n",
    "    If false: throw to monkey 0\n",
    "\n",
    "Monkey 2:\n",
    "  Starting items: 79, 60, 97\n",
    "  Operation: new = old * old\n",
    "  Test: divisible by 13\n",
    "    If true: throw to monkey 1\n",
    "    If false: throw to monkey 3\n",
    "\n",
    "Monkey 3:\n",
    "  Starting items: 74\n",
    "  Operation: new = old + 3\n",
    "  Test: divisible by 17\n",
    "    If true: throw to monkey 0\n",
    "    If false: throw to monkey 1\"\"\""
   ]
  },
  {
   "cell_type": "code",
   "execution_count": 54,
   "metadata": {},
   "outputs": [
    {
     "data": {
      "text/plain": [
       "10605"
      ]
     },
     "execution_count": 54,
     "metadata": {},
     "output_type": "execute_result"
    }
   ],
   "source": [
    "from functools import reduce\n",
    "(lambda z: (z[0])*(z[1]))(sorted([j[6] for j in \n",
    "  reduce(lambda a, b: \n",
    "    reduce(lambda c, d: \n",
    "      # c,\n",
    "      reduce(lambda e, f: \n",
    "        [\n",
    "          [i[0],\n",
    "          ([i[1][0]] if i[0]!=d[0] and len(i[1])>0 else [])+\n",
    "          (i[1][1:] if len(i[1])>1 else [])+\n",
    "          ([] if len(e[d[0]][1])==0 else (\n",
    "            [(lambda x, y: x+y if d[2][1]=='+' else x*y if d[2][1]=='*' else 999)(\n",
    "              e[d[0]][1][0] if d[2][0]=='old' else int(d[2][0]), \n",
    "              e[d[0]][1][0] if d[2][2]=='old' else int(d[2][2]))//3] if i[0]==(\n",
    "            d[4] if (lambda x, y: x+y if d[2][1]=='+' else x*y if d[2][1]=='*' else 999)(\n",
    "              e[d[0]][1][0] if d[2][0]=='old' else int(d[2][0]), \n",
    "              e[d[0]][1][0] if d[2][2]=='old' else int(d[2][2]))//3%d[3]==0\n",
    "            else d[5]) else [])),\n",
    "          i[2],\n",
    "          i[3],\n",
    "          i[4],\n",
    "          i[5],\n",
    "          i[6]+(1 if i[0]==d[0] and len(i[1])>0 else 0)\n",
    "          ] for i in e\n",
    "        ]\n",
    "        , c[d[0]][1], c),\n",
    "      a, a),\n",
    "    range(20),\n",
    "    [[int(m.replace(\":\",\" \").split()[1]),\n",
    "    [int(i) for i in m.split(\"\\n\")[1].replace(\",\",\"\").split()[2:]], \n",
    "    m.split(\"\\n\")[2].split()[3:],\n",
    "    int(m.split(\"\\n\")[3].split()[3]), \n",
    "    int(m.split(\"\\n\")[4].split()[5]),\n",
    "    int(m.split(\"\\n\")[5].split()[5]),\n",
    "    0] for m in day11_input.split(\"\\n\\n\")])])[-2:])"
   ]
  },
  {
   "cell_type": "code",
   "execution_count": 55,
   "metadata": {},
   "outputs": [
    {
     "data": {
      "text/plain": [
       "2713310158"
      ]
     },
     "execution_count": 55,
     "metadata": {},
     "output_type": "execute_result"
    }
   ],
   "source": [
    "from functools import reduce\n",
    "(lambda z: (z[0])*(z[1]))(sorted([j[6] for j in \n",
    "  reduce(lambda a, b: \n",
    "    reduce(lambda c, d: \n",
    "      # c,\n",
    "      reduce(lambda e, f: \n",
    "        [\n",
    "          [i[0],\n",
    "          ([i[1][0]] if i[0]!=d[0] and len(i[1])>0 else [])+\n",
    "          (i[1][1:] if len(i[1])>1 else [])+\n",
    "          ([] if len(e[d[0]][1])==0 else (\n",
    "            [(lambda x, y: x+y if d[2][1]=='+' else x*y%(reduce(lambda g, h: g*h, [j[3] for j in c])) if d[2][1]=='*' else 999)(\n",
    "              e[d[0]][1][0] if d[2][0]=='old' else int(d[2][0]), \n",
    "              e[d[0]][1][0] if d[2][2]=='old' else int(d[2][2]))] if i[0]==(\n",
    "            d[4] if (lambda x, y: x+y if d[2][1]=='+' else x*y if d[2][1]=='*' else 999)(\n",
    "              e[d[0]][1][0] if d[2][0]=='old' else int(d[2][0]), \n",
    "              e[d[0]][1][0] if d[2][2]=='old' else int(d[2][2]))%d[3]==0\n",
    "            else d[5]) else [])),\n",
    "          i[2],\n",
    "          i[3],\n",
    "          i[4],\n",
    "          i[5],\n",
    "          i[6]+(1 if i[0]==d[0] and len(i[1])>0 else 0)\n",
    "          ] for i in e\n",
    "        ]\n",
    "        , c[d[0]][1], c),\n",
    "      a, a),\n",
    "    range(10000),\n",
    "    [[int(m.replace(\":\",\" \").split()[1]),\n",
    "    [int(i) for i in m.split(\"\\n\")[1].replace(\",\",\"\").split()[2:]], \n",
    "    m.split(\"\\n\")[2].split()[3:],\n",
    "    int(m.split(\"\\n\")[3].split()[3]), \n",
    "    int(m.split(\"\\n\")[4].split()[5]),\n",
    "    int(m.split(\"\\n\")[5].split()[5]),\n",
    "    0] for m in day11_input.split(\"\\n\\n\")])])[-2:])"
   ]
  },
  {
   "attachments": {},
   "cell_type": "markdown",
   "metadata": {},
   "source": [
    "## Day 12\n",
    "\n",
    "Day 12 - Not a one-liner solution."
   ]
  },
  {
   "cell_type": "code",
   "execution_count": 38,
   "metadata": {},
   "outputs": [],
   "source": [
    "day12_input = \"\"\"Sabqponm\n",
    "abcryxxl\n",
    "accszExk\n",
    "acctuvwj\n",
    "abdefghi\"\"\""
   ]
  },
  {
   "cell_type": "code",
   "execution_count": 43,
   "metadata": {},
   "outputs": [
    {
     "name": "stdout",
     "output_type": "stream",
     "text": [
      "31\n"
     ]
    }
   ],
   "source": [
    "Arr = [[c for c in l] for l in day12_input.replace('S','a').split('\\n')]\n",
    "S = day12_input.find('S')//(len(day12_input.split('\\n')[0])+1), day12_input.find('S')%(len(day12_input.split('\\n')[0])+1)\n",
    "E = day12_input.find('E')//(len(day12_input.split('\\n')[0])+1), day12_input.find('E')%(len(day12_input.split('\\n')[0])+1)\n",
    "stack=[S, [-1,-1]]\n",
    "for i,j in stack:\n",
    "  if i!=-1:\n",
    "    for k, l in [[i-1, j], [i+1, j], [i, j-1], [i, j+1]]:\n",
    "      if k>=0 and l>=0 and k<len(Arr) and l<len(Arr[0]):\n",
    "        if Arr[k][l]=='E' and ord(Arr[i][j])>=ord('y'):\n",
    "          print(stack[:stack.index([i, j])].count([-1,-1])+1)\n",
    "          break\n",
    "        elif ord(Arr[k][l])<=(ord(Arr[i][j])+1) and not [k,l] in stack:\n",
    "          stack+=[[k,l]]\n",
    "    else:\n",
    "      continue\n",
    "    break\n",
    "  else: \n",
    "    stack+=[[-1, -1]]"
   ]
  },
  {
   "cell_type": "code",
   "execution_count": 42,
   "metadata": {},
   "outputs": [
    {
     "name": "stdout",
     "output_type": "stream",
     "text": [
      "29\n"
     ]
    }
   ],
   "source": [
    "Arr = [[c for c in l] for l in day12_input.replace('E','z').replace('S','a').split('\\n')]\n",
    "S = day12_input.find('S')//(len(day12_input.split('\\n')[0])+1), day12_input.find('S')%(len(day12_input.split('\\n')[0])+1)\n",
    "E = day12_input.find('E')//(len(day12_input.split('\\n')[0])+1), day12_input.find('E')%(len(day12_input.split('\\n')[0])+1)\n",
    "stack=[E, [-1, -1]]\n",
    "for i, j in stack:\n",
    "  if i!=-1:\n",
    "    for k, l in [[i-1, j], [i+1, j], [i, j-1], [i, j+1]]:\n",
    "      if k>=0 and l>=0 and k<len(Arr) and l<len(Arr[0]):\n",
    "        if Arr[k][l]=='a' and ord(Arr[i][j])<=ord('b'):\n",
    "          print(stack[:stack.index([i, j])].count([-1,-1])+1)\n",
    "          break\n",
    "        elif ord(Arr[k][l])>=(ord(Arr[i][j])-1) and not [k,l] in stack:\n",
    "          stack+=[[k,l]]\n",
    "    else:\n",
    "      continue\n",
    "    break\n",
    "  else:\n",
    "    stack+=[[-1, -1]]  "
   ]
  },
  {
   "cell_type": "markdown",
   "metadata": {},
   "source": [
    "## Day 13"
   ]
  },
  {
   "cell_type": "code",
   "execution_count": 1,
   "metadata": {},
   "outputs": [],
   "source": [
    "day13_input = \"\"\"[1,1,3,1,1]\n",
    "[1,1,5,1,1]\n",
    "\n",
    "[[1],[2,3,4]]\n",
    "[[1],4]\n",
    "\n",
    "[9]\n",
    "[[8,7,6]]\n",
    "\n",
    "[[4,4],4,4]\n",
    "[[4,4],4,4,4]\n",
    "\n",
    "[7,7,7,7]\n",
    "[7,7,7]\n",
    "\n",
    "[]\n",
    "[3]\n",
    "\n",
    "[[[]]]\n",
    "[[]]\n",
    "\n",
    "[1,[2,[3,[4,[5,6,7]]]],8,9]\n",
    "[1,[2,[3,[4,[5,6,0]]]],8,9]\"\"\""
   ]
  },
  {
   "cell_type": "code",
   "execution_count": 52,
   "metadata": {},
   "outputs": [
    {
     "data": {
      "text/plain": [
       "[1,\n",
       " 2,\n",
       " 3,\n",
       " 0,\n",
       " 5,\n",
       " 0,\n",
       " 7,\n",
       " 0,\n",
       " 9,\n",
       " 10,\n",
       " 0,\n",
       " 12,\n",
       " 13,\n",
       " 0,\n",
       " 15,\n",
       " 16,\n",
       " 0,\n",
       " 18,\n",
       " 0,\n",
       " 0,\n",
       " 0,\n",
       " 22,\n",
       " 0,\n",
       " 24,\n",
       " 0,\n",
       " 0,\n",
       " 0,\n",
       " 28,\n",
       " 0,\n",
       " 30,\n",
       " 31,\n",
       " 32,\n",
       " 33,\n",
       " 0,\n",
       " 35,\n",
       " 36,\n",
       " 0,\n",
       " 38,\n",
       " 0,\n",
       " 40,\n",
       " 41,\n",
       " 0,\n",
       " 0,\n",
       " 44,\n",
       " 45,\n",
       " 0,\n",
       " 0,\n",
       " 48,\n",
       " 49,\n",
       " 0,\n",
       " 51,\n",
       " 52,\n",
       " 53,\n",
       " 0,\n",
       " 0,\n",
       " 56,\n",
       " 57,\n",
       " 58,\n",
       " 59,\n",
       " 0,\n",
       " 61,\n",
       " 0,\n",
       " 63,\n",
       " 0,\n",
       " 0,\n",
       " 0,\n",
       " 0,\n",
       " 68,\n",
       " 69,\n",
       " 0,\n",
       " 0,\n",
       " 72,\n",
       " 73,\n",
       " 74,\n",
       " 75,\n",
       " 0,\n",
       " 0,\n",
       " 0,\n",
       " 0,\n",
       " 80,\n",
       " 81,\n",
       " 0,\n",
       " 0,\n",
       " 84,\n",
       " 85,\n",
       " 86,\n",
       " 0,\n",
       " 88,\n",
       " 89,\n",
       " 0,\n",
       " 0,\n",
       " 92,\n",
       " 0,\n",
       " 94,\n",
       " 95,\n",
       " 96,\n",
       " 97,\n",
       " 0,\n",
       " 99,\n",
       " 0,\n",
       " 0,\n",
       " 102,\n",
       " 0,\n",
       " 0,\n",
       " 0,\n",
       " 106,\n",
       " 107,\n",
       " 108,\n",
       " 109,\n",
       " 0,\n",
       " 0,\n",
       " 112,\n",
       " 0,\n",
       " 0,\n",
       " 115,\n",
       " 0,\n",
       " 0,\n",
       " 118,\n",
       " 0,\n",
       " 120,\n",
       " 0,\n",
       " 0,\n",
       " 0,\n",
       " 0,\n",
       " 0,\n",
       " 0,\n",
       " 127,\n",
       " 128,\n",
       " 0,\n",
       " 0,\n",
       " 0,\n",
       " 0,\n",
       " 133,\n",
       " 134,\n",
       " 0,\n",
       " 0,\n",
       " 0,\n",
       " 138,\n",
       " 139,\n",
       " 140,\n",
       " 141,\n",
       " 142,\n",
       " 0,\n",
       " 0,\n",
       " 0,\n",
       " 146,\n",
       " 147,\n",
       " 148,\n",
       " 0,\n",
       " 150]"
      ]
     },
     "execution_count": 52,
     "metadata": {},
     "output_type": "execute_result"
    }
   ],
   "source": [
    "from functools import reduce\n",
    "reduce(lambda a, b:\n",
    "  a+[(b[0]+1)*(lambda a: a if a in [0,1] else 1 if len(b[1][0])<len(b[1][1]) else 0)\n",
    "  (-1 if min(len(b[1][0]), len(b[1][1]))==0 else reduce(lambda c, d: c if c==1 or c==0 else 1 if b[1][0][d]<b[1][1][d] else 0 if b[1][0][d]>b[1][1][d] else c, range(min(len(b[1][0]), len(b[1][1]))), -1))],\n",
    "  enumerate([[[int(k) for k in j.split()] for j in i.split('\\n')] for i in day13_input.replace('[',' ').replace(']',' ').replace(',',' ').split(\"\\n\\n\")]), [])"
   ]
  },
  {
   "cell_type": "code",
   "execution_count": 50,
   "metadata": {},
   "outputs": [],
   "source": [
    "day13_input = \"\"\"[[[],[3,[],4,[2,1,3]],8,7],[0,7,[[5,2,1,0],5],9],[10,[[],4,[7,2],2,8],[[2,1,0,5]],[[7,2],0,[],[3,5,1],5]],[0,10,2]]\n",
    "[[],[3,[[6,3],[2],[8,3]],[[1,6],[3,9,1],[]]]]\n",
    "\n",
    "[[3,2,4],[1,[2,3,[5,1,8],7,9]],[[4,[]]]]\n",
    "[[[[],[],6],3]]\n",
    "\n",
    "[[[[],[6,7,8,0,5],1,8,3],7,4],[[9,10,2,9,5],5],[10,[3],[[],[9],1,3]]]\n",
    "[[7,[0,[1,2,7,0],3,[10,4,10]],[[10,1,8,5],5,0,[3,8,4,0],[4,9]],9,7],[[[9,2,3,9,0],5,[8]]],[[7,[7,9],[4],[0,4,5,2,10],[0,6,3,0]]],[5,[],[9]],[10,3,8]]\n",
    "\n",
    "[[[[7,7],[],10,[0,8]]],[7,[[],2]],[3,10,[[1,0,10,7],[6,10,5,2],[8],5],[[]]]]\n",
    "[[[],[[4],9],9,[[3,1,7,9,3],[2,5,4,3,9],[7,5],[],[4,0,1,2,4]]],[[2,6],9,2],[],[[5,2,4],3,[2,9,9]]]\n",
    "\n",
    "[[[5],[[0],[0,7,0,6,5],[2],[4,3,5,8]],1]]\n",
    "[[8]]\n",
    "\n",
    "[[[]],[[7],2,6],[[1,10],10],[[],[],[[10,2,4,7,9],0,[2,7]],8,1]]\n",
    "[[2],[4,9,3,7]]\n",
    "\n",
    "[[[[3],[],[],[1,0,4,0,2],0],[10],4,[10,[7,3,4],0,[10,5,6,2],0],7],[6,[4,5,[2],1]]]\n",
    "[[],[9],[[0,[],0,[6,3,1,0],[9]],[3,[10,9,5],3]],[]]\n",
    "\n",
    "[[[4,9,[1],0,8],[[0,1,10,2,0],10,[6,3,3,9,4],[],4],4],[2,7],[[[6,10],[1,6,8,1],[4,1,5]],3,[2],[[5],8],7]]\n",
    "[[4],[[[6],[],2,9,[8,6,1]],10],[2,[2,[5,6,2,0,7],[8,3,9,2],0,[1]]]]\n",
    "\n",
    "[[],[[[2,7,3,4,5],3,[0,8,5,5],[3],[6,2,3]]],[[[],[10,0],[2,0,0,5],[4,4,9,1],[9,4]],7]]\n",
    "[[5,1],[10],[[[4,6,7],10,[8,0,10,6]],[]],[2],[[[1,10,0,9],9,[10,0,7,10,10]],[4]]]\n",
    "\n",
    "[[2],[7,[],[3,[],5,[4]],9],[[],6,[8,[4,8,3]]],[5,10,[[6,7,10,2,6],10,0,[8,2],[1,7,9,3,8]]],[0,5,10,3]]\n",
    "[[9,[],[],[0],[1]],[[],[[1,0,4,10],7,[8,4,5]],5],[[],[[4,0,7,2,4]]],[[[8],10,1,2,[]]]]\n",
    "\n",
    "[[[],[],[3]],[4,5,7,1,[[9,6,1],5]]]\n",
    "[[0,[[3]]],[[[5,2,0,9,0],6,[]],2,0,[[8,7,2],0,[0,2,1,1]]]]\n",
    "\n",
    "[[3,[[]],[3,5],[[0,10,10],[]],5],[[10,2,6,1,5],6],[]]\n",
    "[[[[4,5,6],5,2,3],[[2],[9,6,8,4,8],[5,8,6,3,2],8],9,[6]],[[2,[7,9,0,9]],[8,[10,4,8],6,[7,10],3],[[1,0,5,1,8],6]],[9,4],[[5,10,[3,9,2]],[],7,[],5],[2,6]]\n",
    "\n",
    "[[5,9],[5,[],[0,1,[0,7,7],[10,3]],8]]\n",
    "[[[],[[10,5,2],[]],[10,[6,6]],[1,[1,3,3],[2],6]],[8,1,[3,7,[8,8,1]],[[8,10,10,3],0]],[[[4,6,9],0,[],7,[9]],9,[[6,4],[5],5,2,[2,5,10,1,9]],5,[[2,3,10,7],[9,6,10],[2],[3,4,3],8]],[[2,7,5,3],6,[10,[10,7],9,9],4,2]]\n",
    "\n",
    "[4,3,8,9,8]\n",
    "[4,3,8,9]\n",
    "\n",
    "[[2,6,1,7],[4,[],3,9,4]]\n",
    "[[],[[9],[[3,0,7,10],7],[8,3]],[0,[[7,10,8,9,5],[7,6],[6,8,9,10,2],[7]],0,[[4]],[1,4,4]],[],[[9,2,[1,9,9,3],[9]],3,3]]\n",
    "\n",
    "[[[3,6,[],5,10],6,8,[0,[1,7],6,5,6]],[]]\n",
    "[[3,9,8,9],[7,[0,[1,7,9,6,5],0,[6,5,2,1,5],1],[[4,2,8],10,[4,8]],[[10,10],9,[5,4],5,1],8],[],[10,[]]]\n",
    "\n",
    "[[7,10,[6,5,0]],[[7,2],[[7,0],4,7,[]],[[9],5,[10,0,6,10,10]],[6],1],[[[3],[]],1]]\n",
    "[[[],[[0,7,9,6,10],[4],2,8],[7],3],[[[],8,5,[9,6,8,9,7]]],[4,10,[7],1,5],[],[0,7,[4],[7,[9,3],6,7]]]\n",
    "\n",
    "[[[0,0,10,3,0],[[10,6,10,9],[],6,2],2,[],3],[[],4,[4,4],[10,10,[6,3],3,8],7],[[[],1,3,[]],[9,3,[8,6,8,7,5],2]]]\n",
    "[[[8,10,4]]]\n",
    "\n",
    "[[[[10,8,7],[7],0,2,4],8,8,6,[[0,3,3,2,3]]],[2,[6,[0]],[[]],8,[[],8,[5,0,1],[6,6,6,10],[2,0,10,1]]],[9,4,4,[],[[10,1],[5,8,1,5,8],8,10]],[[1,2,[8,1],6,6],[3,8,7,[4,4,10],10],[],9,[4,5,[3]]],[3]]\n",
    "[[],[[[7,0,2],[],[6,1,8,4],[10],[]],10,8],[[[7,7],1,4,[8,2,1,4],4],[1,[2],10],9,1,4]]\n",
    "\n",
    "[[10,[0,7,[],3,[1,6]],[[2,4,5,4]],[]],[],[6,6,[[2,6,7],7,[5],[8,4,10,4,8],[0]],[10],[]],[[[],[6,0,9,10,2],8,[0]]]]\n",
    "[[[6]],[[3],[[]],[[0,6,8,9,5],[7,9,10,2]]],[],[[[1],[9],5],9,[[],[0],5,1,[5,0]],5]]\n",
    "\n",
    "[[[6,[0],[2,7,4]],8,1,[]]]\n",
    "[[4],[[[5],[10,2,1,8,9],5,[4,0,2,9,9]],0,[8,[7,2,0,1,0],[0,6],8,[7,2]],8]]\n",
    "\n",
    "[]\n",
    "[[[[4,4],[5],[8]],8,8],[10,[[7,7,5,0],9,4],[],[6,4]]]\n",
    "\n",
    "[[[4,[]],[[9,8,2,2,3]],2,[]]]\n",
    "[[],[2,1,[[3,7,4],4,[2],2,[]]],[7],[[0,[7,2,6],[2,5],1,[8,4,10]],[[6,6,8,1],7,[],1,0],[10],10,[0,[9],6]]]\n",
    "\n",
    "[[6,7,[5,[8,4,6]],10,10],[7],[8,[[8,8,6,10,6],[5,8,4]],[1]],[4,2,[1,[0,3,1,7],[9,1,4,2],[],[4,6,4]],4],[[0,4,2,[10,1,1,9],[8,5]]]]\n",
    "[[],[[[],10,9,[10,8,5,3],[9,7]],3],[[3,10,6],[4],10,10,7],[1,[10,[1,2,9,8],0,10],[[4,9,6,10]],2],[0]]\n",
    "\n",
    "[[],[[],[[8,5,5,8,5],[4,9,1,10,7],[1,5,7],[10,6,5,6],2],[[1,5,6,7,10],[6],4],[[4,3,5],2,7,6,[4,0]],5],[[2,8,6,[8,10],[1,10,10]],[3,[8,9,6,8],8,[0,0,7,9]],[[9,5,6,0],[2],[8,6,4,6,6],[]]],[2,[[]],[[],8],4]]\n",
    "[[5,8,[0,9,0,7,[0,8]],[7,[7,7],[9,4,7,6,7],[8,0]],[[5],[10,1,2,5,4],[],[1,2]]],[8,7],[3,[[2],8,0,5],9,[]],[8,0,4,5],[[]]]\n",
    "\n",
    "[[[3,1,[5,5,2,3,1]],[[],[1,1,3,1,0],3,[10,9,4]],0,7],[[[2,2,4,1,10],[],9,2,[6]],7,[[2],3,[4,5,0,3]]]]\n",
    "[[],[2],[]]\n",
    "\n",
    "[[10,[4],[3,[5],1],3,6],[[7],[[6]],[[2,0,2],[],[0,5],[4,7,2]],1,10],[[],[5,0,0],5,7],[6,[[9,2,0]],[]]]\n",
    "[[[6,3,[8]],0,2,1,[3,[3,10,10],[7,3,3,6]]],[[[6,1,9,10],[6,6,4,5,9],[9,0,2,2,3],7,1],2,[]],[],[],[[2,[10,9,5,10,1],9,9],[3,6,5,7],10]]\n",
    "\n",
    "[[[6,[3],[8,6]],7,[7,[2],6,[6,6,1,0,6]],4],[],[[[5,0,3,5],1,1,[9,4,10,5,1],[1,9,5,3,8]],[[10,1,2,8]]],[8,[],[[3,2,0,2],10],1],[]]\n",
    "[[[7,[],9,3],[1,[10,7,0,2],1],8,3],[10,7,[4,10,9,[2]]]]\n",
    "\n",
    "[[7,7,1]]\n",
    "[[6,[5,[8],7,9,[9,3,2]],[9,10]],[[1,5,[5,6,8,7]],[]],[],[[7,6,7],7,[]],[[[8,2,9],[10,9,3,6],[0,1,2,4,1],4,[4]]]]\n",
    "\n",
    "[[0],[[9,3,3],5],[[[4,0,2,8,3],10,1]]]\n",
    "[[[[10],[8]],1],[1],[5,[[10,2,6,9],[0,10,9],0]]]\n",
    "\n",
    "[[4],[[8,5,10,[8,8,7]],4,[],[7],9]]\n",
    "[[[[7,6,0,5,6],[],[],[3],8],[3]]]\n",
    "\n",
    "[[[3]],[3,[4,[4,10,5,0],7,2,[8,5,6]],[4,[1,3,10,2],[9,8,3,10,6],[2],2],[],[[0,4],2,1]],[7,[],[[3],[10,10,1],5],[[],[5,2,1,8,8],[7,0,6]],[6,[3,1,2,6],2]],[],[[[2,9,6],[1],[3],[]],6,[[9],[1,3,0,4],[2,9,10,6,3]],3,1]]\n",
    "[[[[],6],[],[[4]],[]],[1,7]]\n",
    "\n",
    "[[[],[[3]],[],8]]\n",
    "[[4,[7,4,[0,1],2],5,2],[[],[7,2,[6,5,1],4,[1,2,10,5]]],[[0,[2],1,[]],9]]\n",
    "\n",
    "[[[2],[[9,5,9,10,1],1],[],[3,[]],7],[],[1],[]]\n",
    "[[0,7,[[0,6],[6,6,0,4],[10,4,6],[9,3,3,2,10],7],5,4],[],[[[7,9]],[8],[7,[],[3,3,2,7]]],[[],4,3]]\n",
    "\n",
    "[[],[],[3,1],[10,5,1,3],[[4,9,3,[7,7,8],[9,4,2]],3,[4,0,8,[]]]]\n",
    "[[7,[[8,2,4],7,[10,9],[]]],[[],[[1,3],5,[6,7],[6],10],9],[],[[],5,4,[[1,8,6,3,3],1,4,6,8]]]\n",
    "\n",
    "[[3,[]]]\n",
    "[[[6,[],[]],[6],[9,[1,6],7],[[5,6,5],[5,3,2,8,8]],[4,0,[]]],[[],[2,[6,3,9],2,4],6],[3,[],[4,4,[1,6,2,2,2],[7,10,1,9],[9,10,4,2]]],[[[5],[9,7],[],3]]]\n",
    "\n",
    "[[[1,7,[10,8,8,4,2]]],[5,[[5,3,8]]],[0,6,10],[[2],2],[[],2,0]]\n",
    "[[[[],[0,5],[4,2],0],4,8,0,3],[[2]]]\n",
    "\n",
    "[[[],[]],[7,6,7,[0,4,5,[9,2,7,4,7]],7],[0,0],[]]\n",
    "[[[9,0,[0,2]],[[7,10,1,0],5],4],[[3,[4,1,5,3]],7],[[[8,0,10],4,[10,3],[1,0,10,3,1],5],5,[7,9,[10,8],8,6],[5]],[[[6,0,9,0,7],4],8,[],[9,[2],6,1],1]]\n",
    "\n",
    "[[],[],[10,3,[6,[3,3],[6],[0]]]]\n",
    "[[8,6,4],[[3,[10,5,0,2],[2,9,6]],4],[2,0,[[7,0,5,6,0],10,8,3],[0,10,1,[3,7]],9]]\n",
    "\n",
    "[[2,[6,[],8]],[[5,3,[]],[10,7,[0,0,0],[3,10],1],[[1,3,5,4],[2,10,2,7],0,6]],[[10,[4,9,6]],7,6,[]],[[10],[8,[],4],[[8,1,5,0,4],2,3],[1]],[5,5,[]]]\n",
    "[[[],[[7,4,4]],0],[3],[[[8],0,1,7],[[8,6,0],8,[6,4,0],[9,4],3],5],[2,9,[],1,[[0,6,8,1],10,[]]]]\n",
    "\n",
    "[[],[[[]]],[[],1,[10,0],[[],10,[]],5]]\n",
    "[[10,9,[[],7,[],2,[1,1]],[],[[9,3,3,9]]],[],[],[3,9,[]]]\n",
    "\n",
    "[[[9,[6,7]],[[5,6,4,2],0,3,0,6]]]\n",
    "[[8,2,0],[9,5,10,0],[[9,5,[5]],9,2,[[9,5],10,8,[9,2,8,9,9],[]],5],[5,8,[8,5]],[[[8,9,6,9],[0,4,7,9,9]],[5,[10],4,10],[2,1],7,[4,7,[7,6],10,[4,5,9,0,7]]]]\n",
    "\n",
    "[[[[],3],6,[[9],[3,7,3,1],[5],[6,6,4]],9,0],[1,0,[9,7],2,[[],[0,1,1],2,[],2]],[[3,3,[10]],[[7,2,5,9,7],[1,0,7],4,8],3,7,10],[[[9,1,4,1,5],0],4,9,[6,0],[]]]\n",
    "[[0,[5],2,[1,[1,9,4,10,9],1,[10,4,8],[10,3]]]]\n",
    "\n",
    "[[3,6,4,[6,[1,3,7,9,5]]],[[[]],[],[[]]]]\n",
    "[[[5,[3,10,1,2,5]]],[4,[4],2,[4]]]\n",
    "\n",
    "[[3,[],8]]\n",
    "[[],[[[10,0,8,8,10],[3]],0,[[0,7,6],[8,7,0,9,4],10]]]\n",
    "\n",
    "[[[8,5,[],6],9,[9,5,9,[]],6,[]]]\n",
    "[[4,10,[],6,10],[[5,3,[3,7,10,3,5]],[9,0],3]]\n",
    "\n",
    "[[[[9,2,5,7,8],6,2,1,[]],[[2,6,7,4],[]],[3,8,[8,2,0,2],[6,6,10,4],[2,4,0,3,8]],8,[4,[0],[7,3]]],[[0,[4],[10,6,10,8,8],[3,10],[1]],[],[8,[6,4,9],[],2,[10,6,0,8]],6,[3,3,5,[5,5,5,1]]],[],[[9,[0,3,10]],[7,8],0]]\n",
    "[[0,3],[[[3,3,4,2,2]],[],4],[[7,[5,5,2,3,10],8],9,3,[]]]\n",
    "\n",
    "[[1,8,4,[9],[4,[9,0,9],3]]]\n",
    "[[6,3,[[0,2,4,7],0,[1,8,0]],0],[[[],[7,9],[7],[9,5],[8,4]],[4,[3,10,4,6,0],9]],[[[8]],[],[]]]\n",
    "\n",
    "[[[6,[3],[8,2,6,6,6],3,[7]],[10,[6,7,3,3],9,7,6]],[[10,2,10,9,[8,2]],[],[6,[1],10]],[[],3,7]]\n",
    "[[[8,3,[4,7,1,0,1],[9,4,1,6],9],[9,8,[0,1,7,4,2]],[2,9,[8,2]],8,[[8,8,2,0],[]]]]\n",
    "\n",
    "[[8,[],[[5,3,0,0],[9,8],7],0]]\n",
    "[[1,1,[[],[5,10,0,2,7],[4,6,1,7,4]],5,7],[[[]],1,6],[[[],10,[10,5,8,5,3],[7,1],1],[9],10,[[7,7,3],10,8,[0,3,4]]],[7,10],[5]]\n",
    "\n",
    "[[[2,1],7,4,[7,7,5,6,[10,1,2,9,8]],[1,[],[9,1,6,5,4],[2,5,2,6]]],[1,[[],[4],[0],0],9,[[1],[5,10,3],[2]],[]],[5,[[1,3,8,1]]],[2,1,4],[[4,[],4,3,[3,10]],8]]\n",
    "[[],[9],[1],[10]]\n",
    "\n",
    "[[[1,[10,6]],2,3,10],[5,[9,10,6,9],7],[[[],[10],[1,1,9,9,3],7],7,[5,10,1],6],[]]\n",
    "[[],[9,8],[6,10,8]]\n",
    "\n",
    "[[[[1,6,7,6],[7,5]],[[],8,0,1,[9,4,2]],[10,[9,6,1,3,6],5],0,8]]\n",
    "[[3,5,[[],[9,2,8,5],1,[]],0,[]],[9,[[10,6,2,6,7],[],[10],3,[10,0]]],[7],[6,0,7,[]]]\n",
    "\n",
    "[[7,[4,3,6],10,[7,3,[2,3,2,6],[5,6,1,2,4],6],[[7,0,3]]],[[[6,3,10,6,6],[2,6,3],[0,0]],[[]]],[],[]]\n",
    "[[5,[[7,7,1,3],[],2],[[0,8,6,6,2],[0,7],0],2]]\n",
    "\n",
    "[[6,9]]\n",
    "[[[3,3,[5,3,5]],2]]\n",
    "\n",
    "[[3,[[5]]],[[[],[0,4,6,3]],[4,2,7,[3,4,8]],1],[[[],[7,4],[9],7,4],7,3],[],[2,5,[[0,8],[3,6],10],1,[]]]\n",
    "[[7,[[1,0,9],[8,8,9,2,9],3]],[5,8,2,[9,[10,3,7,6]]],[0,[[1,4,8,1,9]],[8,6,[9,10,7,6],[9,8,6,10]],2,[6,4,[4,2,2,1,9]]],[10,[[6],10,[3,1,9],10],4]]\n",
    "\n",
    "[[[],[4,[0,4,7,3],[2]]],[[6,[10,9],6,1]],[2],[8,[[],1],[4,[3,4],2,[8]],8,9],[2,[[],[2],[4],[6,5,3,1,6],2],[8]]]\n",
    "[[4,7]]\n",
    "\n",
    "[[3,[],[[10,10,10,0,6],[0,2,6,3],8,9],[[],[1,6],2,[9,5,7]],[4]],[[[9,6,5,7],0,[3,10]],4]]\n",
    "[[[5,[],[],[1,9,0,4,0]],6,7],[[[],10,[],[9,2,4]]]]\n",
    "\n",
    "[[[],6,[[]],1],[3,7,[5,2,[3],8],[[4,6,10,2,7],[1,4,10,3],[2,1,2,9]],[8]]]\n",
    "[[],[6,8,[[4,5,2,4,1],[10]]],[[[1,4],[],[2,6,3,3,9],2]],[[2,1,2,[4,8,4,2]],[[],4]]]\n",
    "\n",
    "[[6,10],[10],[[[0,5,5,7,2],0],[7,[0,6,5]],[[1,1,3,3,2],9]],[10,8],[[8],[[6,3],4],[[1,7,2],10]]]\n",
    "[[5,8],[0,3,10],[0]]\n",
    "\n",
    "[8,2,7,9]\n",
    "[8,2,7,9,3]\n",
    "\n",
    "[[[4]],[[[3,9,3]],[]]]\n",
    "[[],[[2],2,[0,[2,5,9,8],4,8,7],9,9],[6],[0,[[3,3,1,8,8]],4,[1,1,[]]],[7]]\n",
    "\n",
    "[[[[],6,5],[5,9,[2]],2,[[0,8,8,8],6,1,4,1]],[0],[3,4,0],[[[6],[],6,[5,1,4,1,9]]]]\n",
    "[[9,3,10,4,[6,3,8,[6,5]]],[[]]]\n",
    "\n",
    "[[],[],[[[7,5],[3,6,7],4,[0,6],[9,6]],[[6,5,7,6,6],[3,3],[8],[7,4,7,8],[10,1,5]],[[6,7],[3,9,7,7]],2,[[6],[10,0,0]]]]\n",
    "[[[4,4,8,[9,8,9,8],0],5,[0,5,[2,10,5],[5,8],[7,0,0,6,3]]]]\n",
    "\n",
    "[[],[10,[7,[6,5,4,7],0],[],[[],[1]]],[9,6,1,9,9],[[[8],[3,3,3,7]],[9],4],[8,4]]\n",
    "[[],[[[2,9,3]]],[[],[[],[]],9,[[],[]],2],[7]]\n",
    "\n",
    "[[9,[[],0,[],[6],6]],[4,[[5,3,10],8],10,[10,[10]]],[[5,[5,6],[0],7,8],1,[[1,3]],[[0,0,3,9,3],4]],[[4,[9,9],0],[4,[0,4,9,6,10],7,1],[[],4,10,[0,2,8,3]]],[[[10,8]]]]\n",
    "[[[2,9,8,[4,7,9,8]],[[5,7,0,9,4],[],[7,5],6,6],6,[[5,3,1],7,[2,1,5,0,10],1,[1,8,5]],[]],[],[10,3,10],[[10,2,[0,5,4],[8,3,0],8],[4,[],3,[9,1,4,4]]],[9,6,6,[[10,7,0],[0,10,2,4,3],[9,7,7,9,10],[6,6,8,10,5],7]]]\n",
    "\n",
    "[[3,8,[]],[8],[2,3,[5,2,[8,9],[5],[]],[[7,2],[8,2,6,4,5],[3,4],[2,3],5],8],[[6,7,2,2]],[[5,[4],[3,9,1,2],[7,9,7],[10,1,10]],[6,[4,3,5,1],3,[10,10,7,5,6],7]]]\n",
    "[[3,[[2,2,0],8],[[3,4,4],10,10]],[8],[[[7],0,10,4,[3,8,5,9]]],[6,8,[],3,4]]\n",
    "\n",
    "[[[[6]],9,[0,[],[5],[5,7,1,4]],9,[3,4,1,[2,10]]],[[5],[]]]\n",
    "[[7,[3,[10],6,3]]]\n",
    "\n",
    "[[5,[8],[7],2],[4,8,[[8],[5],[10,3,8],3,[4,3,1,0]]]]\n",
    "[[6,0,[[]],5,6],[],[2,[[2,3,5,4],[6,6],7,4,1],[9,[2]]]]\n",
    "\n",
    "[[],[[],[8,6,5,10],[2,[0,4,9,4,1],[10,1,0,2,1]]],[2,[],[[7],[10,5],[10,0,2]]]]\n",
    "[[7,2,0,7,[10]],[]]\n",
    "\n",
    "[[[8,[2,9,3],[10,9,10]]]]\n",
    "[[[6,3,3,[3,6,1,4]]],[[],[[0,9,8],6,[],[4,1],0],[[],[7],[10,0,6,3,7],1,[3,3]],[8]]]\n",
    "\n",
    "[[],[[2,6,7,6,[6,8,8]],10,0,1],[]]\n",
    "[[[],[],7,[[10],9,[6,8,0,7],8,[2]]],[[],[9,9],9,[[2,6],4,3,5]],[[[3],[]],[[8,2],1]]]\n",
    "\n",
    "[[[]]]\n",
    "[[[5,4,0]],[[[1,7,9],[]],[3,3,1,7,3]],[0,[2,[],10,2],[[]],[7,2,[7,0,10,3,8]]],[1,[]],[[6,10,[5,8,5,0,9],[9,1],4],[4,[4,0,1,7]],8,8]]\n",
    "\n",
    "[[[5,6,5,[0,7,6,4],9],8,[8],[[2,7,3],4,10,7,[5,10,10,10,1]]]]\n",
    "[[6,1,[[1],[10,2,6],[7,4],[6,4,3,3,5],6],[0],9],[],[5,[[6,0,9,6,2],5,10,1,9],2,[[0,6,1,4,10],3,[]]],[[5,7,[7],[6],3],[[3,0],6,[1,10,3,10],4,4],7]]\n",
    "\n",
    "[[],[[2,[5,2]]]]\n",
    "[[6,1,5,[[3,7,2],[],[0,0]]],[6,8,1,9]]\n",
    "\n",
    "[[[4,[],[4,5,6]],[],[2],[2,[8,1],5,[8,1],4]],[[6,[7,6,4,2,0]],[9,[7,3]],[],[9,[10,8,0],[],5]],[6,[8,[8,4,3,10]]]]\n",
    "[[[0,[5,10,4,7,8],[3,0,6,7],10,4],10,5,7],[1,[],8,9]]\n",
    "\n",
    "[[],[5,[7,2,9]],[7]]\n",
    "[[1],[[],3,[[0,5,1],[9,6,9,10]],[7,8,10,9],[0]],[[5,[9],4,[0,9,4,0]],[],[[7,6],10,[8],6,1]]]\n",
    "\n",
    "[[[7,5,2],[3],4,2],[[[10,9,2]],[[5,3,5,7],7,[6,0,0],0],[[6,10,1,5],[]],[0]],[[[8,5],[6,0,5],6,8,[4,8,10,5]],7,[[10],[],3,[]]],[],[[[8],1,[3,7,8]],[[9,7,7,8],[8,4],[6,5,3,9,10],[8]],[[7,4],[1,4,5,9]],[5],6]]\n",
    "[[4,7,4,4],[2],[],[6,[[9,2,6,7],[8,4,9,9,0]],[5,7,[8,4],[8,6,9,3,8],[8,9,7]]],[]]\n",
    "\n",
    "[[[[10,2],3,[],4],[[2],3,2,8],[8,[1],10]],[[[10,1,2,8]],[0,[10],[2,9,3,7]],[5],[1,1,7]],[[6,[9],[4],4,[6,8,5,4]]],[[4,[],[9,5,5],[1],[9,10]],[],[2]]]\n",
    "[[],[[[7]],[[1,5,10,5],[10,2],6,[],[9]],1,[]],[],[[4,9,[4,2],[7,8],[5,9]],[6,8,4,5]]]\n",
    "\n",
    "[[[1,3,[10,7,2,6],9]],[[2,5,[1,7,5,7],0,4],7,[5,[6,6],[]]],[[4,[2]],8,2],[[[5,1]],0]]\n",
    "[[[],[[2,10,9,1],[8],[4],[1,6,8,1]]],[9,3],[7,[6,10,[10,0],[9,5,7],8],[[0,0,7,9,6],9],8],[0,0,[3]],[1,2,0]]\n",
    "\n",
    "[[2,[[3,1,1],8,[6],[8]],[[1,0,6],[7,4,8]],4],[[],4,7,[6,9,[5,8]]]]\n",
    "[[[]],[[3],10,[],0],[[[3,5,3,5,1],[9,7,8,9]],[[3,1,10,7,4],[],[9]],[[1,0,8,7],2]]]\n",
    "\n",
    "[[10,[[1,2,4,8,8],3,1,4],6,[[8],[10,6,0]],[]],[[6],[9,[],3,4],[[10,4],5],9]]\n",
    "[[[3,[10],4,[0,0,3,5,6],[0,1,10,3,6]],8,[],9],[]]\n",
    "\n",
    "[[[5,9],2,[],[9,[],4]],[0,[9,[5],3]]]\n",
    "[[],[2,[],8],[[0],[]],[[[3,5],[3]]],[[[6,8,0],[2,10,10],[7,0],5,[3,3]]]]\n",
    "\n",
    "[[],[6,8,6,[0]],[]]\n",
    "[[],[[[10],10,8]],[],[[],1,5,[[7,2,0,0],[],[]]]]\n",
    "\n",
    "[[3],[10,10,6,0,0],[],[5,0,3]]\n",
    "[[[[6,1]]],[9],[0],[[[9,4],8,3,7],2,4,[]]]\n",
    "\n",
    "[[2,6,1,7],[[[1,9],4,1,[3,8,0,4],[2,6]],4,5]]\n",
    "[[[10],[],0,[[3,5],6,4],[]]]\n",
    "\n",
    "[[[[],10],0,[[3,0,7,1]],4,2],[[[2],[7],[1],[8,6,4,2,9]]]]\n",
    "[[[],8,[]]]\n",
    "\n",
    "[[],[],[0,[9,[6,8,2,2],[9,9,7,3,7]]],[[7,[3,4],4,[5,4,4,2],4]]]\n",
    "[[[[9,7,1],10,0,6],[],[2,4,5,[7,5,2,6,1]],9,[3,[3,3,8,10],[7],[1,8,6,1,2]]],[0,7]]\n",
    "\n",
    "[[[[]]]]\n",
    "[[[[9,2,3,10,4],[],1,5,[2,7,3]],6],[6,2,[[],0,7,[]],[2],[[],[],[],[4,5,9,0],0]],[[0,0,0,3],0],[[[1,7,4],[3,6,10],[2,2],9]],[1,[[],2,10,6],[[7,5,0],[3,3,2],6],0,4]]\n",
    "\n",
    "[[],[[1],2,[[10]],[4]],[8,[[],[],[7,2,2,10]],6],[]]\n",
    "[[[0],2],[[[7],1]]]\n",
    "\n",
    "[[[[3,7],[7,4],[9,5,10,10,3]],4,[7,10,6]]]\n",
    "[[]]\n",
    "\n",
    "[[[[4,0,1,7,1],8],[8],[]],[[[1]],9,7],[[0,6],1],[[9,[10,2]],[]]]\n",
    "[[10]]\n",
    "\n",
    "[[5,3,[]],[9,9,[[7,7],6,[3,7,6]],[10,[6],[9,3,6,8],10]]]\n",
    "[[[[5,2,0],[2,0,5,6,5],[9,2,5],0]],[6,2,[[7,10],[],[8,8,4,7,6],[4,10,2],[0,8,1]],[[8]]],[[[7,3,3,9],[3,1],[3,6,2,8]],[[]],0,[[1,9,9],8],[1,4,[8,10,3,8,9],[5,3,2,8,2],6]]]\n",
    "\n",
    "[[3,[5,5,[1,0,10],[0,2,8,8]],10,[]],[[[2,5],8,8,[2]]],[4],[6,3]]\n",
    "[[],[6,[[3,3,1,0],1,[10,4],7,[3]],[0,1,[5,6],[]],10,1],[7,[1,2,6,[7,5],[1,3,3]]]]\n",
    "\n",
    "[[[]],[[[3,5,0,9,9],[10],[3],9],5,[4],[3]],[],[[9,10],[[5,0,5,1],[0,8,2,5,8]],3,[[5,2,9,1]],[7,[],2]]]\n",
    "[[5],[10,[[8]],0],[10,[]]]\n",
    "\n",
    "[[0,[[],3,[10,10,8]],[[9,4,1,8],[6],[4]]],[8,[[3,3,5],5,[],2,10],[[10,3,1,4]],3,[1]]]\n",
    "[[],[10,[9,[],[],[5,10,9,3],[5,10]]],[],[[7,2],[4,2,6],6,2]]\n",
    "\n",
    "[[[1,[2,7,2],[2,7,2],[9,2,7,0,4]],[[7,4,8],[8,8,0],4,[2,4],7],[[4,0],5,[7,2],6,6],[8,4,[4,7,3,9,5],7]],[2],[7,[7,[3,4,10,2],3],10],[7,[],9,2],[5,2,6,10]]\n",
    "[[5,[[],[4,4],1],[],[2,7],4]]\n",
    "\n",
    "[[4],[0,[0,10,5,[9,8,1,0],2],5,4]]\n",
    "[[[],1,[9,[0],[],[1]],[4,4,5,6,[4,4]]],[],[[[1],[]],1,[[9,10,4,1,7],10,[]],[],10]]\n",
    "\n",
    "[[[[3,1],6,[],0],[[],[4,5,8],[8,0,0],8,[4,7,7]]],[],[9,1]]\n",
    "[[[[10],[8,9,1],[9,10,1]],8],[[]],[]]\n",
    "\n",
    "[[9],[[[0,5,6]]]]\n",
    "[[[4,3,6],9,1,[[],5,[9,6,7]]],[2,[1,[4,4,0,9]]],[[[1,4,0,6,7]],8,3],[[[1,2],[4,6],[0,10,10,1],[],[7,2,2,9,5]],3,1]]\n",
    "\n",
    "[[8,[[],[0,7,1],[],[4,7,1,10]],3,[0,[2],[],5,[6]]],[],[[5,[0,9,4,5],5],[[],[5,5,1,10],10,7],5,[[5,3,5,10,2],0]],[[[7,1,0,10]],[2,[],[0,3,8,1,1],[3,7,1,5]],8,[[5,9],3]],[[0,3,10,8,10],6,0,[]]]\n",
    "[[[],2,2,6,0]]\n",
    "\n",
    "[[],[0,[[5,2,7,7,2],[3,8,3]],7,9]]\n",
    "[[],[[[1,0,3,6],[3,10],[9]]],[[3,[8,10,0,9],8,[7,2,4],0],[[4],[9,1,4,3],10,3,2],0,2,6],[3,[[4,6],[3,1,2,6,4],[],[7,10,6,8],6],[],3,[[]]]]\n",
    "\n",
    "[[6,5],[[[1,10,10,9,6],4,[3,1,8,9],10],[[7],3],[[2],[2,4,5,5],[7,4,4],7,10],10,[[9,5,2,6,10],10,[6,10,10,9]]]]\n",
    "[[],[4,[0,[6,6,4,9]],[[3,9],9,[4,10,9,9],6],10,4]]\n",
    "\n",
    "[[9,[[1,4,2,7,4],[2,9,5,8,2]],[6]],[[[0,9,3],7,[]],[10,[2,3],7,[4],[1,5]]]]\n",
    "[[[6,6,[7,0,9,0,3],9,1]],[9,[5],10,2],[[],10,[[10,4,6,4,2],3,1,[9,5,9],4]],[],[[10,9,[9,3,4]],[[2],[1,7,4,9,5],[],[8,7],8],[[9,0,9],5,2,[8,0],5],[]]]\n",
    "\n",
    "[[[[10,1,10],8],[],[4,[5],[8,10,0]],[[0,10,4,6]]],[3,6,[8,2,6,2]]]\n",
    "[[],[[],[8,[],10],7,0]]\n",
    "\n",
    "[[2,0,8,[[9,4,8,5],10,[0,7],[9,0,1,5]],[3,7,6]],[[5,4,2]],[4,3]]\n",
    "[[[],[[]]],[],[7,[],[],[[5],2,[6,1,6]],3],[9,[[0,9,10,8],[8,7,3]]],[10]]\n",
    "\n",
    "[[8,3,[0,[0,1,2,3,3]]],[0,7]]\n",
    "[[[],10,[10,6,5,10]],[[[2,4]],5],[[6],2,[[1,5,6,6,1]],[[9,2,2,10]]],[10,[[],[]]],[6,3,[[],2,[7,6,6,3],6],1,7]]\n",
    "\n",
    "[[],[[[],[0,3],[8,6,8]],[9,2],[[0,10]],5],[[[9],[8,1,3,9],4,7]]]\n",
    "[[10],[2,[[9,10,0,3,9],[4,5,9,1]]],[3,3,[0,9,6,4],8,[9]],[[[],[]],10,[[0,1,0],[8,3]]]]\n",
    "\n",
    "[[4,[[4,1,0],[9,6,3],[],8,[]],[[10,6],[2,0,4,1],0,[8],2],5,10],[[9],6,[],[[10,2,3],[10,0,5],8,5]],[7]]\n",
    "[[[9,[9,5,7,0]],[2,4,[4,1,2,4],[2,8]],[[6],1,[10],[1,4,7,2,10]],3,10],[[8],[8,[],2],[[9,9],6],[[]],6],[[6,[6,9],2,[3,9,10,2],[2,8,7,6]],[[7,6,9,9]],[],8],[2,[4,[1,4,2]],[]],[]]\n",
    "\n",
    "[[10,0,10],[3,[7],2],[[[9,9,8,5,10],[1,1,5]],7],[[],[0,[9,2],0,10],[0,10,[4,8,7,6,6]]],[]]\n",
    "[[[[8,7,1],2,[6,1,5,8]],[4,[9]]]]\n",
    "\n",
    "[[9,4,[3,[7,8],[3],[10],2]],[8],[]]\n",
    "[[[1,7,5,1],0]]\n",
    "\n",
    "[[[2],2],[9,[7,[8,3,4],4],0],[1,[6,6,[7,9,9],[10,1,9],[5,10,9,7]],[[10],4],[[0,4],[10,10,10,1]],[0,1]],[[[9,1,8,0],[7,4,3],[8]],[],[[2,9,1,4,10],[4,9,3,9],9,2,2],3],[[3,[8,7]],[[]],[[8]],1]]\n",
    "[[],[8,2],[[1,1,3],[[7,6,2,10],4],[],[2,4]],[[[],10,[2,2,2],7],[]],[6,5,0,7]]\n",
    "\n",
    "[[[7,[0,9,6,0,9],[4,8,0,9]],[[3,9,7,8]],4,1],[4,1,[[],1],1,[4,[1,0]]],[],[[],[],9]]\n",
    "[[[[4],[7,9,4,7,9]],9],[5],[[]]]\n",
    "\n",
    "[[[[0,10],2,[5,2,10],5],[],[]],[[[5,2,10,8,9],[10,10,8,5,3]],2,[[],10,6,5]]]\n",
    "[[[0,2,[]],[[]],10,6,[4,10,[9,1,5]]],[0,[],[]],[[[3,0,0],3,[9,0,2],5,8],8],[1,[[1,7,9,8],[0]],2],[[[4,6,0,3,0],[7,6],1,[5,9,1,6],1],7]]\n",
    "\n",
    "[[],[3,[2,0,[3,5],[8,8,4],[8,3,7]],10,4,[[8,7,4],9]],[3,3],[[],[0,8,5,5],8,1]]\n",
    "[[[5,6,[],[]],4,9,[[0,7,0,4,8],[3],9,[3,4,7,10],1]]]\n",
    "\n",
    "[[],[10,4,[7,[6,4,7],5,10,6],[[6,7,1,0,1],9]],[5,9,[[8,2],[5],[2],0,[]]]]\n",
    "[[9,[2,2]],[],[9,9,[[],5],[[]],[]],[],[]]\n",
    "\n",
    "[[5,3],[[],4],[[[6],5,5,9],[1,7,4,[2,5,1,10,5],2],6]]\n",
    "[[],[2,[[0,9],9,7],[6,[8,7,3,4]],[],[7,1,[0]]]]\n",
    "\n",
    "[[],[4,[[2,7,3],[4,9,7,3],3]]]\n",
    "[[],[[],7,0,8],[[10,[2,10,0,2,4],[9,9,9,5]],9],[[[6,2,10],[9],[2],3],[],6]]\n",
    "\n",
    "[[],[[10],6],[],[],[7,8]]\n",
    "[[[5,1]]]\n",
    "\n",
    "[[[0,1,[4,10]]],[9,[]],[],[4,6,4]]\n",
    "[[1,3,3,[7],2],[[[9,2,8,0,6],[9,2,10]],[[9,5],[6,6],10,[2,9,5,6,0],[7,0,8,4,3]],[[2]]],[1,0,[10,[],[7,1],3],4]]\n",
    "\n",
    "[[[8,0]],[0],[[7,[2,3],[0,1,4,1],10],9]]\n",
    "[[[[0,3,0],10,4,[0,10],[7]],[0,4,[8,10,7,10,10],[],3],[[6,2,5],[],7],6,1],[[],6,6,[[3,5,3,8,0]]],[[0],4,[],[]],[6,8,8,[0,[4,9,2,7,4],[2,1,3,0,5]]]]\n",
    "\n",
    "[[[[7,5,6,2,8],4,[2],7,[2]],10,4,0,[]],[[[3,7,6,10,4],0,[10,9,7,1]],[3,[],[4],0],[3,[2,3],[1,6,10,2],2]],[],[],[6,[6,8,[7,5,1,6],[1,5,2],[9,1,9,2]],[[10,1,6],[6,0,4,4],9,0,[2,1,10,0,9]]]]\n",
    "[[3,[2,[1,5],[3]],[],[[2,6,10],5,[8,5,7,4],[8,9,6,6],1]]]\n",
    "\n",
    "[[0,[[4],1,4],[[9,0,7,1],[4],[0,2,2,3,2],2,4]],[9,10]]\n",
    "[[0,[2,8,[2,9,3],3,[]],[10],4],[[6,[6,7,7],9,5],[[9]],[2,[0,8,1],[3,6,1]],[[2,6,0],8,[6,2],[0,10,5,8,1]],9]]\n",
    "\n",
    "[[9,3,6,[[1],[10,1]],6],[]]\n",
    "[[0,3,[4,[],[10,0,1,6],10,[6,3,2,8]],[[3,0],[2,8,5,10]]],[[],7,3],[3],[10,[3]],[4,5,8,[[],[4,3,8],4,5,7],10]]\n",
    "\n",
    "[[5],[9,[3,[1,9,8,4,8],0,7,[4,2,2]]],[],[[[2],3],5,6,[[5],1,2,[9],[8,6]],1],[6,8]]\n",
    "[[],[],[0,[[4,8,9,3],[2,1,7]],8],[[],10,4,[[]]]]\n",
    "\n",
    "[[[8,8,6,[]]],[[[5,3,8],5],[0]]]\n",
    "[[[1,[10,9,7]],9],[],[[10,6]],[[6],[6,[]],[[],1,8,3,[10]],7],[4,10,[[7],[]]]]\n",
    "\n",
    "[[],[[],2,4,[8,7,[8,2,7,1,9],9,[1,1,10]],8],[[],1]]\n",
    "[[[[3],[5,10],[1,10,0,3,7],[8,9,1,2,5]],5,[0,[4,0,5,5,10]],[2,[1],6],[]],[0,3],[],[[[9,7,2,10],[8],0,[10,9,3],2],6,[8,0,[6,10,2,4,4]]]]\n",
    "\n",
    "[[[4,[6]],1,9,[]],[4,2,[[6,1,9,9],[6,3,1,7,8]]]]\n",
    "[[[6,[4,0,1,2,4],2,[7,4]],[[5,4],0]],[7],[[9,8,[10],[5,9,3,5,0]],[[10],[7,2],[3]],8]]\n",
    "\n",
    "[[1,7,[[8,7,5],1,2]],[0,10],[[[3,10]],[],[6,[7,9,7,3],6,[4,6],10]],[]]\n",
    "[[[1],2],[],[],[0,[3,[5,4,1,9,2],[8,10,4,5]],8]]\n",
    "\n",
    "[[[[5,8,2],7,10,5],9,[[],[7]],[[4,3,1],[7,2,2,6,10],0]],[[[10,0],4],[[],[5,1,4,9,4],4,7,6],[8,[7],3,[10]],2,[[1,7,7]]]]\n",
    "[[],[[[],1],10,[10,[3,4,9,5],[1,8,7,0],0]],[[[6,4]]],[]]\n",
    "\n",
    "[[[],10,9,0,8]]\n",
    "[[[10,[]],[5,7,[6,8,5],6,6],[9,1,5,1],[[],10]],[9,[6,[7],[10,0,4],[1,7]],8,[]],[[3],2,1,[[5,0,8],4,3,[4,0,0],[3,1,0,10]]],[[5,[],[],[7,10]],[4,[5],10,[5]],4,[[7,8,1],0,[4,7,3,7],[5],[10]],6]]\n",
    "\n",
    "[[5,5,8,2,1],[3]]\n",
    "[[[[1,6,1],[4,4],6,6,[8,0,2]]],[],[],[]]\n",
    "\n",
    "[[[4,7],2],[5,[10,[1,7],6,[10],7],[2,10]],[3,3]]\n",
    "[[9,10,[[],1,9,5,8]],[[[6,8],[6,6,9,6],2,[2,4]],[7,[10,0,5]]],[1,[8,[8,8],[8,1,10,10]],4],[[[3,4,10],[5,6,3],0,[1,8,0,2,1]],2,2],[[7,[7,7,2],[5,8,6,6,9],[9,9,6,3]],[8,[],6,[5,9,5]],0,[3,4]]]\n",
    "\n",
    "[[4,[[10,2,2,2,1],8,[0,10,7,1],0,[7,5]]],[[[7,7,9,10,9],[5,3,0],[8,5]],[[8,8,9],9,3]],[6,[8],10,[8]],[[[],4]]]\n",
    "[[10,[[0,2,5,6]]],[0,[],6,[3,[1,7,6,4],[9,4],6],2],[[[9,7,4,3],9,7,10],2,2,[0,10,[9]]],[6,[4,[8,0,9],4]]]\n",
    "\n",
    "[[6,10],[[[]],10,[6,7],[2,[]]],[0,7,[],8],[9,[]]]\n",
    "[[[]],[],[]]\n",
    "\n",
    "[[],[3,[3,4,[3,5,6,2,8],[]],[[3,0,5,6,5],[9,8,7],3],4,3],[6,[[2],3]],[[[2],[4,7],7],8,7,[],[[7,9]]],[[]]]\n",
    "[[2,2,7,8,6],[[],10,[[2,4,2,4],[4,9,5]],5],[[9],[[6,1],[1,6]],2,[7,4,0,[1]]],[[[9,10,8],[2,6,6],[7,5,7],10,[5,7,1,3,9]],[1,8]],[[1,6],7,0,[[9],[4,9]]]]\n",
    "\n",
    "[[3,[[0,10,1],[4,4,0],2,1,[7,3,5,2,6]]],[[[6,6,4],[],4,[2,2,2,7,3]]]]\n",
    "[[[[0,6,9,2],8,[10,1]],8,1,[[1,9,5]]],[4,7],[4,[[]],[[1,5],9],0]]\n",
    "\n",
    "[[2],[[[3,7,2,4],[6,9],[8,9],8],[]],[[],6,[[5],[5,1,9,4,10],[8],[0,0,7,3],[7]],[7,[2,4,7,8,6],5,3,0]],[[1,6,9,[0]],2]]\n",
    "[[2,5],[],[]]\n",
    "\n",
    "[[[8,[6,10,9,5],2,[4,9],[8,4,8,1]],4],[5,[5,3,[0,2,5],[],8],[[3,4,0,3,10],1,[],[]]]]\n",
    "[[],[9,[10]],[2],[[4,9,[1,9,4],2],6,[[],0],[[1]]],[[3,[6],[],6]]]\n",
    "\n",
    "[[],[0,[[3,0],1],[]],[10,0,[7,9,[9,3,9],4,[6,3]],3,2]]\n",
    "[[[0]],[[[10,1,10,7,7],4,6],[5,[9,3,0,5],[1]],[10]],[[1,[7,1,9,8,7],[5,2,0],1],1,5,[[1],[0,8,2,5,9],1,2,10]],[],[8]]\n",
    "\n",
    "[[[[0,4,0],[2,7,8,3],[2,8,4,3,2],[4,9,6,6]]],[0,[],3],[[[0,1],[9,0,6,8],9,[4,6,7,3,5],[8,0,9,3]],4]]\n",
    "[[1,[2,7,3,8]],[]]\n",
    "\n",
    "[[1,[5,[],0]],[[6,[9,5,6],[],[9,7],8],1,[],9,[[5],5,3,5]],[[1,[10],[6,10,2],6]]]\n",
    "[[[[1,8,8],[10],7],[],10,0,[]],[[9]],[]]\n",
    "\n",
    "[[[[10,1,8,9,1],7,4,9],[[4,9,6],[6,8,1,4]]],[[5,4],[],1,[[3],[],[],3],[0,[2,5,10,6,3]]]]\n",
    "[[5,[[1,5,8,4,6],[9,4,6,8,2]],9,6,9],[0,0,[[4],[7,4,3,0],[10]],[7]]]\n",
    "\n",
    "[[],[2],[6,[[]]],[2,[[10,8]],[3,[10,10],[3,2,2,10],2,[6,7,5]],6]]\n",
    "[[0,5,[1,[0],9],[[5,7,6,8],[4,4,7],[],4,[10]],7]]\n",
    "\n",
    "[[[7,1,1,1,0],[[1],4,7],[[8,7,4,5,6],6,[5,7],7],2,0],[5,10,[4]],[6,8,9]]\n",
    "[[0,[],4],[[5,[10,10,7],9,5],3,[[],2,4,2],9],[10,1,[4,1,[],[5,3,1,10]]],[7,[0,[0,10,1],5,[2,8,4,9,7],[]]]]\n",
    "\n",
    "[[0],[]]\n",
    "[[6],[3,7,10,[7,[3,3,8],7,[],8]],[]]\n",
    "\n",
    "[[6,2,8,1,[[],4]],[2,[[0],[10,2,7],[4,3],[0,3,7,10,1]]],[[[2,1,7,8,0],9,6,0,[2,10,4,1,10]],9],[6,1,10,10],[]]\n",
    "[[[],10,[1,9,[4,0,1,1]],9,5],[2,[2,[9,4],[7,0,6,2,8]]],[5,2,[[0,3,4]]],[[]]]\n",
    "\n",
    "[[3,[4,[]],6,8],[],[4,5,8,[4,3]]]\n",
    "[[[7],[[0,7,5,2,9],9,6,1],[],[[1,10,1,6,9],5,2]],[10,[[7,8,10]],3,0,2],[[2,5,1],[[0,8,0,2],9,4,[10],[]]]]\n",
    "\n",
    "[[],[[9],10],[[[4,7],[4,6,2,3],9,[2],[0,8]],[2,3],10,9],[4,6,[[1,3,7,8]],10,[[]]]]\n",
    "[[[2],0,5],[],[]]\n",
    "\n",
    "[[[1],9,5,9]]\n",
    "[[],[5,10,[[8],[8,7,0,8,5],10,2,[0,6,9]],[[3,10,6],8],[0]],[]]\"\"\""
   ]
  },
  {
   "cell_type": "code",
   "execution_count": 21,
   "metadata": {},
   "outputs": [
    {
     "data": {
      "text/plain": [
       "1"
      ]
     },
     "execution_count": 21,
     "metadata": {},
     "output_type": "execute_result"
    }
   ],
   "source": [
    "reduce(lambda a,b: a, range(1), 1)"
   ]
  }
 ],
 "metadata": {
  "kernelspec": {
   "display_name": "jupyter",
   "language": "python",
   "name": "python3"
  },
  "language_info": {
   "codemirror_mode": {
    "name": "ipython",
    "version": 3
   },
   "file_extension": ".py",
   "mimetype": "text/x-python",
   "name": "python",
   "nbconvert_exporter": "python",
   "pygments_lexer": "ipython3",
   "version": "3.10.8"
  },
  "vscode": {
   "interpreter": {
    "hash": "509274d51f85e792b73d8c86df1fdda72450910fa53d8f87a3294dd7baf65486"
   }
  }
 },
 "nbformat": 4,
 "nbformat_minor": 4
}
